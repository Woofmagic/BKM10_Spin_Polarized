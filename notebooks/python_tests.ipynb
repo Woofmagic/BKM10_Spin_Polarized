{
 "cells": [
  {
   "cell_type": "code",
   "execution_count": 1,
   "metadata": {},
   "outputs": [],
   "source": [
    "import numpy as np"
   ]
  },
  {
   "cell_type": "code",
   "execution_count": 3,
   "metadata": {},
   "outputs": [],
   "source": [
    "_TEST_LEPTON_POLARIZATION = 1.0\n",
    "_TEST_TARGET_POLARIZATION = 1.0\n",
    "_TEST_SQUARED_Q_MOMENTUM_TRANSFER = 1.8200000524520876\n",
    "_TEST_X_BJORKEN = 0.3429999947547912\n",
    "_TEST_SQUARED_HADRONIC_MOMENTUM_TRANSFER = -0.1720000058412552\n",
    "_TEST_EPSILON = 0.477109\n",
    "_TEST_LEPTON_ENERGY_FRACTION = 0.491757\n",
    "_TEST_K_TILDE = 0.157396\n",
    "_TEST_SHORTHAND_K = 0.0842939\n",
    "_TEST_T_PRIME = -0.0337889"
   ]
  },
  {
   "cell_type": "code",
   "execution_count": 5,
   "metadata": {},
   "outputs": [
    {
     "name": "stdout",
     "output_type": "stream",
     "text": [
      "0.7145841755603443\n"
     ]
    }
   ],
   "source": [
    "# (1): Calculate the recurrent quantity sqrt(1 + epsilon^2):\n",
    "root_one_plus_epsilon_squared = sqrt(1. + _TEST_EPSILON**2)\n",
    "\n",
    "# (2): Calculate the recurrent quantity t/Q^{2}:\n",
    "t_over_Q_squared = _TEST_SQUARED_HADRONIC_MOMENTUM_TRANSFER / _TEST_SQUARED_Q_MOMENTUM_TRANSFER\n",
    "\n",
    "# (3): Calculate t'/Q^{2}\n",
    "t_prime_over_Q_squared = _TEST_T_PRIME / _TEST_SQUARED_Q_MOMENTUM_TRANSFER\n",
    "\n",
    "# (4): Calculate 1 - x_{B}:\n",
    "one_minus_xb = 1. - _TEST_X_BJORKEN\n",
    "\n",
    "# (5): Calculate the annoying y quantity:\n",
    "y_quantity = 1. - _TEST_LEPTON_ENERGY_FRACTION - (_TEST_X_BJORKEN**2 * _TEST_LEPTON_ENERGY_FRACTION**2 / 4.)\n",
    "\n",
    "# (6): Calculate the first term:\n",
    "first_bracket_term = (2. - _TEST_LEPTON_ENERGY_FRACTION)**2 * t_prime_over_Q_squared * (one_minus_xb + (one_minus_xb * _TEST_X_BJORKEN + (_TEST_EPSILON**2 / 4.)) * t_prime_over_Q_squared / root_one_plus_epsilon_squared)\n",
    "\n",
    "# (7): Calculate the second term:\n",
    "second_bracket_term = y_quantity * (1. - (1. - 2. * _TEST_X_BJORKEN) * t_over_Q_squared) * (_TEST_EPSILON**2 - 2. * (1. + (_TEST_EPSILON**2 / (2. * _TEST_X_BJORKEN))) * _TEST_X_BJORKEN * t_over_Q_squared)\n",
    "\n",
    "# (8): Calculate part of the prefactor:\n",
    "prefactor = 8. * sqrt(2. * y_quantity) / root_one_plus_epsilon_squared**4\n",
    "\n",
    "# (9): Calculate the coefficient:\n",
    "c_1_zero_plus_unp = prefactor * (first_bracket_term + second_bracket_term)\n",
    "\n",
    "print(c_1_zero_plus_unp)"
   ]
  },
  {
   "cell_type": "code",
   "execution_count": 7,
   "metadata": {},
   "outputs": [
    {
     "name": "stdout",
     "output_type": "stream",
     "text": [
      "0.7145841755603443\n"
     ]
    }
   ],
   "source": [
    "c_1_zero_plus_unp = (8. * sqrt(2. * (1. - _TEST_LEPTON_ENERGY_FRACTION - (_TEST_X_BJORKEN**2 * _TEST_LEPTON_ENERGY_FRACTION**2 / 4.))) / sqrt(1. + _TEST_EPSILON**2)**4) * ((2. - _TEST_LEPTON_ENERGY_FRACTION)**2 * (_TEST_T_PRIME / _TEST_SQUARED_Q_MOMENTUM_TRANSFER) * ((1. - _TEST_X_BJORKEN) + ((1. - _TEST_X_BJORKEN) * _TEST_X_BJORKEN + (_TEST_EPSILON**2 / 4.)) * ((_TEST_T_PRIME / _TEST_SQUARED_Q_MOMENTUM_TRANSFER)) / sqrt(1. + _TEST_EPSILON**2)) + ((1. - _TEST_LEPTON_ENERGY_FRACTION - (_TEST_X_BJORKEN**2 * _TEST_LEPTON_ENERGY_FRACTION**2 / 4.)) * (1. - (1. - 2. * _TEST_X_BJORKEN) * (_TEST_SQUARED_HADRONIC_MOMENTUM_TRANSFER / _TEST_SQUARED_Q_MOMENTUM_TRANSFER)) * (_TEST_EPSILON**2 - 2. * (1. + (_TEST_EPSILON**2 / (2. * _TEST_X_BJORKEN))) * _TEST_X_BJORKEN * (_TEST_SQUARED_HADRONIC_MOMENTUM_TRANSFER / _TEST_SQUARED_Q_MOMENTUM_TRANSFER))))\n",
    "\n",
    "print(c_1_zero_plus_unp)"
   ]
  },
  {
   "cell_type": "code",
   "execution_count": null,
   "metadata": {},
   "outputs": [],
   "source": []
  }
 ],
 "metadata": {
  "kernelspec": {
   "display_name": "Python 3",
   "language": "python",
   "name": "python3"
  },
  "language_info": {
   "codemirror_mode": {
    "name": "ipython",
    "version": 3
   },
   "file_extension": ".py",
   "mimetype": "text/x-python",
   "name": "python",
   "nbconvert_exporter": "python",
   "pygments_lexer": "ipython3",
   "version": "3.10.5"
  }
 },
 "nbformat": 4,
 "nbformat_minor": 2
}
