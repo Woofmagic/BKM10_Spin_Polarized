{
 "cells": [
  {
   "cell_type": "markdown",
   "metadata": {},
   "source": [
    "# Import Relevant Libraries"
   ]
  },
  {
   "cell_type": "code",
   "execution_count": 3,
   "metadata": {},
   "outputs": [
    {
     "ename": "ImportError",
     "evalue": "DLL load failed while importing _path: The specified module could not be found.",
     "output_type": "error",
     "traceback": [
      "\u001b[1;31m---------------------------------------------------------------------------\u001b[0m",
      "\u001b[1;31mImportError\u001b[0m                               Traceback (most recent call last)",
      "Cell \u001b[1;32mIn[3], line 5\u001b[0m\n\u001b[0;32m      2\u001b[0m \u001b[38;5;28;01mimport\u001b[39;00m \u001b[38;5;21;01mnumpy\u001b[39;00m \u001b[38;5;28;01mas\u001b[39;00m \u001b[38;5;21;01mnp\u001b[39;00m\n\u001b[0;32m      4\u001b[0m \u001b[38;5;66;03m# (2): Matplotlib:\u001b[39;00m\n\u001b[1;32m----> 5\u001b[0m \u001b[38;5;28;01mimport\u001b[39;00m \u001b[38;5;21;01mmatplotlib\u001b[39;00m\u001b[38;5;21;01m.\u001b[39;00m\u001b[38;5;21;01mpyplot\u001b[39;00m \u001b[38;5;28;01mas\u001b[39;00m \u001b[38;5;21;01mplt\u001b[39;00m\n\u001b[0;32m      6\u001b[0m \u001b[38;5;28;01mimport\u001b[39;00m \u001b[38;5;21;01mmatplotlib\u001b[39;00m\u001b[38;5;21;01m.\u001b[39;00m\u001b[38;5;21;01mpatches\u001b[39;00m \u001b[38;5;28;01mas\u001b[39;00m \u001b[38;5;21;01mmpatches\u001b[39;00m\n\u001b[0;32m      7\u001b[0m plt\u001b[38;5;241m.\u001b[39mrcParams\u001b[38;5;241m.\u001b[39mupdate(plt\u001b[38;5;241m.\u001b[39mrcParamsDefault)\n",
      "File \u001b[1;32mc:\\Python310\\lib\\site-packages\\matplotlib\\__init__.py:174\u001b[0m\n\u001b[0;32m    170\u001b[0m \u001b[38;5;28;01mfrom\u001b[39;00m \u001b[38;5;21;01mpackaging\u001b[39;00m\u001b[38;5;21;01m.\u001b[39;00m\u001b[38;5;21;01mversion\u001b[39;00m \u001b[38;5;28;01mimport\u001b[39;00m parse \u001b[38;5;28;01mas\u001b[39;00m parse_version\n\u001b[0;32m    172\u001b[0m \u001b[38;5;66;03m# cbook must import matplotlib only within function\u001b[39;00m\n\u001b[0;32m    173\u001b[0m \u001b[38;5;66;03m# definitions, so it is safe to import from it here.\u001b[39;00m\n\u001b[1;32m--> 174\u001b[0m \u001b[38;5;28;01mfrom\u001b[39;00m \u001b[38;5;21;01m.\u001b[39;00m \u001b[38;5;28;01mimport\u001b[39;00m _api, _version, cbook, _docstring, rcsetup\n\u001b[0;32m    175\u001b[0m \u001b[38;5;28;01mfrom\u001b[39;00m \u001b[38;5;21;01mmatplotlib\u001b[39;00m\u001b[38;5;21;01m.\u001b[39;00m\u001b[38;5;21;01mcbook\u001b[39;00m \u001b[38;5;28;01mimport\u001b[39;00m sanitize_sequence\n\u001b[0;32m    176\u001b[0m \u001b[38;5;28;01mfrom\u001b[39;00m \u001b[38;5;21;01mmatplotlib\u001b[39;00m\u001b[38;5;21;01m.\u001b[39;00m\u001b[38;5;21;01m_api\u001b[39;00m \u001b[38;5;28;01mimport\u001b[39;00m MatplotlibDeprecationWarning\n",
      "File \u001b[1;32mc:\\Python310\\lib\\site-packages\\matplotlib\\rcsetup.py:27\u001b[0m\n\u001b[0;32m     25\u001b[0m \u001b[38;5;28;01mfrom\u001b[39;00m \u001b[38;5;21;01mmatplotlib\u001b[39;00m \u001b[38;5;28;01mimport\u001b[39;00m _api, cbook\n\u001b[0;32m     26\u001b[0m \u001b[38;5;28;01mfrom\u001b[39;00m \u001b[38;5;21;01mmatplotlib\u001b[39;00m\u001b[38;5;21;01m.\u001b[39;00m\u001b[38;5;21;01mcbook\u001b[39;00m \u001b[38;5;28;01mimport\u001b[39;00m ls_mapper\n\u001b[1;32m---> 27\u001b[0m \u001b[38;5;28;01mfrom\u001b[39;00m \u001b[38;5;21;01mmatplotlib\u001b[39;00m\u001b[38;5;21;01m.\u001b[39;00m\u001b[38;5;21;01mcolors\u001b[39;00m \u001b[38;5;28;01mimport\u001b[39;00m Colormap, is_color_like\n\u001b[0;32m     28\u001b[0m \u001b[38;5;28;01mfrom\u001b[39;00m \u001b[38;5;21;01mmatplotlib\u001b[39;00m\u001b[38;5;21;01m.\u001b[39;00m\u001b[38;5;21;01m_fontconfig_pattern\u001b[39;00m \u001b[38;5;28;01mimport\u001b[39;00m parse_fontconfig_pattern\n\u001b[0;32m     29\u001b[0m \u001b[38;5;28;01mfrom\u001b[39;00m \u001b[38;5;21;01mmatplotlib\u001b[39;00m\u001b[38;5;21;01m.\u001b[39;00m\u001b[38;5;21;01m_enums\u001b[39;00m \u001b[38;5;28;01mimport\u001b[39;00m JoinStyle, CapStyle\n",
      "File \u001b[1;32mc:\\Python310\\lib\\site-packages\\matplotlib\\colors.py:57\u001b[0m\n\u001b[0;32m     55\u001b[0m \u001b[38;5;28;01mimport\u001b[39;00m \u001b[38;5;21;01mmatplotlib\u001b[39;00m \u001b[38;5;28;01mas\u001b[39;00m \u001b[38;5;21;01mmpl\u001b[39;00m\n\u001b[0;32m     56\u001b[0m \u001b[38;5;28;01mimport\u001b[39;00m \u001b[38;5;21;01mnumpy\u001b[39;00m \u001b[38;5;28;01mas\u001b[39;00m \u001b[38;5;21;01mnp\u001b[39;00m\n\u001b[1;32m---> 57\u001b[0m \u001b[38;5;28;01mfrom\u001b[39;00m \u001b[38;5;21;01mmatplotlib\u001b[39;00m \u001b[38;5;28;01mimport\u001b[39;00m _api, _cm, cbook, scale\n\u001b[0;32m     58\u001b[0m \u001b[38;5;28;01mfrom\u001b[39;00m \u001b[38;5;21;01m.\u001b[39;00m\u001b[38;5;21;01m_color_data\u001b[39;00m \u001b[38;5;28;01mimport\u001b[39;00m BASE_COLORS, TABLEAU_COLORS, CSS4_COLORS, XKCD_COLORS\n\u001b[0;32m     61\u001b[0m \u001b[38;5;28;01mclass\u001b[39;00m \u001b[38;5;21;01m_ColorMapping\u001b[39;00m(\u001b[38;5;28mdict\u001b[39m):\n",
      "File \u001b[1;32mc:\\Python310\\lib\\site-packages\\matplotlib\\scale.py:22\u001b[0m\n\u001b[0;32m     20\u001b[0m \u001b[38;5;28;01mimport\u001b[39;00m \u001b[38;5;21;01mmatplotlib\u001b[39;00m \u001b[38;5;28;01mas\u001b[39;00m \u001b[38;5;21;01mmpl\u001b[39;00m\n\u001b[0;32m     21\u001b[0m \u001b[38;5;28;01mfrom\u001b[39;00m \u001b[38;5;21;01mmatplotlib\u001b[39;00m \u001b[38;5;28;01mimport\u001b[39;00m _api, _docstring\n\u001b[1;32m---> 22\u001b[0m \u001b[38;5;28;01mfrom\u001b[39;00m \u001b[38;5;21;01mmatplotlib\u001b[39;00m\u001b[38;5;21;01m.\u001b[39;00m\u001b[38;5;21;01mticker\u001b[39;00m \u001b[38;5;28;01mimport\u001b[39;00m (\n\u001b[0;32m     23\u001b[0m     NullFormatter, ScalarFormatter, LogFormatterSciNotation, LogitFormatter,\n\u001b[0;32m     24\u001b[0m     NullLocator, LogLocator, AutoLocator, AutoMinorLocator,\n\u001b[0;32m     25\u001b[0m     SymmetricalLogLocator, AsinhLocator, LogitLocator)\n\u001b[0;32m     26\u001b[0m \u001b[38;5;28;01mfrom\u001b[39;00m \u001b[38;5;21;01mmatplotlib\u001b[39;00m\u001b[38;5;21;01m.\u001b[39;00m\u001b[38;5;21;01mtransforms\u001b[39;00m \u001b[38;5;28;01mimport\u001b[39;00m Transform, IdentityTransform\n\u001b[0;32m     29\u001b[0m \u001b[38;5;28;01mclass\u001b[39;00m \u001b[38;5;21;01mScaleBase\u001b[39;00m:\n",
      "File \u001b[1;32mc:\\Python310\\lib\\site-packages\\matplotlib\\ticker.py:143\u001b[0m\n\u001b[0;32m    141\u001b[0m \u001b[38;5;28;01mimport\u001b[39;00m \u001b[38;5;21;01mmatplotlib\u001b[39;00m \u001b[38;5;28;01mas\u001b[39;00m \u001b[38;5;21;01mmpl\u001b[39;00m\n\u001b[0;32m    142\u001b[0m \u001b[38;5;28;01mfrom\u001b[39;00m \u001b[38;5;21;01mmatplotlib\u001b[39;00m \u001b[38;5;28;01mimport\u001b[39;00m _api, cbook\n\u001b[1;32m--> 143\u001b[0m \u001b[38;5;28;01mfrom\u001b[39;00m \u001b[38;5;21;01mmatplotlib\u001b[39;00m \u001b[38;5;28;01mimport\u001b[39;00m transforms \u001b[38;5;28;01mas\u001b[39;00m mtransforms\n\u001b[0;32m    145\u001b[0m _log \u001b[38;5;241m=\u001b[39m logging\u001b[38;5;241m.\u001b[39mgetLogger(\u001b[38;5;18m__name__\u001b[39m)\n\u001b[0;32m    147\u001b[0m __all__ \u001b[38;5;241m=\u001b[39m (\u001b[38;5;124m'\u001b[39m\u001b[38;5;124mTickHelper\u001b[39m\u001b[38;5;124m'\u001b[39m, \u001b[38;5;124m'\u001b[39m\u001b[38;5;124mFormatter\u001b[39m\u001b[38;5;124m'\u001b[39m, \u001b[38;5;124m'\u001b[39m\u001b[38;5;124mFixedFormatter\u001b[39m\u001b[38;5;124m'\u001b[39m,\n\u001b[0;32m    148\u001b[0m            \u001b[38;5;124m'\u001b[39m\u001b[38;5;124mNullFormatter\u001b[39m\u001b[38;5;124m'\u001b[39m, \u001b[38;5;124m'\u001b[39m\u001b[38;5;124mFuncFormatter\u001b[39m\u001b[38;5;124m'\u001b[39m, \u001b[38;5;124m'\u001b[39m\u001b[38;5;124mFormatStrFormatter\u001b[39m\u001b[38;5;124m'\u001b[39m,\n\u001b[0;32m    149\u001b[0m            \u001b[38;5;124m'\u001b[39m\u001b[38;5;124mStrMethodFormatter\u001b[39m\u001b[38;5;124m'\u001b[39m, \u001b[38;5;124m'\u001b[39m\u001b[38;5;124mScalarFormatter\u001b[39m\u001b[38;5;124m'\u001b[39m, \u001b[38;5;124m'\u001b[39m\u001b[38;5;124mLogFormatter\u001b[39m\u001b[38;5;124m'\u001b[39m,\n\u001b[1;32m   (...)\u001b[0m\n\u001b[0;32m    155\u001b[0m            \u001b[38;5;124m'\u001b[39m\u001b[38;5;124mMultipleLocator\u001b[39m\u001b[38;5;124m'\u001b[39m, \u001b[38;5;124m'\u001b[39m\u001b[38;5;124mMaxNLocator\u001b[39m\u001b[38;5;124m'\u001b[39m, \u001b[38;5;124m'\u001b[39m\u001b[38;5;124mAutoMinorLocator\u001b[39m\u001b[38;5;124m'\u001b[39m,\n\u001b[0;32m    156\u001b[0m            \u001b[38;5;124m'\u001b[39m\u001b[38;5;124mSymmetricalLogLocator\u001b[39m\u001b[38;5;124m'\u001b[39m, \u001b[38;5;124m'\u001b[39m\u001b[38;5;124mAsinhLocator\u001b[39m\u001b[38;5;124m'\u001b[39m, \u001b[38;5;124m'\u001b[39m\u001b[38;5;124mLogitLocator\u001b[39m\u001b[38;5;124m'\u001b[39m)\n",
      "File \u001b[1;32mc:\\Python310\\lib\\site-packages\\matplotlib\\transforms.py:49\u001b[0m\n\u001b[0;32m     46\u001b[0m \u001b[38;5;28;01mfrom\u001b[39;00m \u001b[38;5;21;01mnumpy\u001b[39;00m\u001b[38;5;21;01m.\u001b[39;00m\u001b[38;5;21;01mlinalg\u001b[39;00m \u001b[38;5;28;01mimport\u001b[39;00m inv\n\u001b[0;32m     48\u001b[0m \u001b[38;5;28;01mfrom\u001b[39;00m \u001b[38;5;21;01mmatplotlib\u001b[39;00m \u001b[38;5;28;01mimport\u001b[39;00m _api\n\u001b[1;32m---> 49\u001b[0m \u001b[38;5;28;01mfrom\u001b[39;00m \u001b[38;5;21;01mmatplotlib\u001b[39;00m\u001b[38;5;21;01m.\u001b[39;00m\u001b[38;5;21;01m_path\u001b[39;00m \u001b[38;5;28;01mimport\u001b[39;00m (\n\u001b[0;32m     50\u001b[0m     affine_transform, count_bboxes_overlapping_bbox, update_path_extents)\n\u001b[0;32m     51\u001b[0m \u001b[38;5;28;01mfrom\u001b[39;00m \u001b[38;5;21;01m.\u001b[39;00m\u001b[38;5;21;01mpath\u001b[39;00m \u001b[38;5;28;01mimport\u001b[39;00m Path\n\u001b[0;32m     53\u001b[0m DEBUG \u001b[38;5;241m=\u001b[39m \u001b[38;5;28;01mFalse\u001b[39;00m\n",
      "\u001b[1;31mImportError\u001b[0m: DLL load failed while importing _path: The specified module could not be found."
     ]
    }
   ],
   "source": [
    "# (1): NumPy:\n",
    "import numpy as np\n",
    "\n",
    "# (2): Matplotlib:\n",
    "import matplotlib.pyplot as plt\n",
    "import matplotlib.patches as mpatches\n",
    "plt.rcParams.update(plt.rcParamsDefault)\n",
    "\n",
    "# (3): Pandas:\n",
    "import pandas as pd"
   ]
  },
  {
   "cell_type": "markdown",
   "metadata": {},
   "source": [
    "# Begin Analysis"
   ]
  },
  {
   "cell_type": "markdown",
   "metadata": {},
   "source": [
    "We need a function that can scan a dataset (`.csv`) and figure out what the kinematic configurations were. Essentially, all we need to do is scan through the columns that refer to $x_{B}$, $Q^{2}$, and $-t$ and figure out the distinct values that are present in those columns. That is quite a simple function to code. Let's ask ChatGPT to do it:\n",
    "\n",
    "**Me**:\n",
    "\n",
    "> I have a `.csv` dataset that contains three columns of interest. Using Pandas, I need a single function that takes as input a Pandas column and returns a list of all the distinct numbers that are present in that column. As an explicit example, suppose the column named `x_B` has 1000 entries, but only 5 of them are actually unique -- let's say they're 0.5, 1.3, 1.75, 2.4, and 2.78. How would I code this function?\n",
    "\n",
    "**ChatGPT**:\n",
    "\n",
    "> You can achieve this using the unique() method provided by Pandas. Here's how you can write the function:\n",
    "```python\n",
    "import pandas as pd\n",
    "\n",
    "def get_distinct_numbers(column):\n",
    "    unique_numbers = column.unique()\n",
    "    return unique_numbers.tolist()\n",
    "\n",
    "# Example usage:\n",
    "# Assuming df is your DataFrame and 'x_B' is the column of interest\n",
    "distinct_numbers_x_B = get_distinct_numbers(df['x_B'])\n",
    "print(distinct_numbers_x_B)\n",
    "```\n",
    "> This function takes a Pandas column as input, uses the unique() method to get the distinct values, and then converts the result to a list using tolist(). You can replace 'x_B' with the actual name of your column in the DataFrame.\n",
    "\n",
    "\n",
    "Let's see if this works. First, we import the data we are using. To do that, we use that function we've used seven thousand times already:"
   ]
  },
  {
   "cell_type": "code",
   "execution_count": 20,
   "metadata": {},
   "outputs": [],
   "source": [
    "def read_csv_file_with_pandas(name_of_csv_file: str) -> pd.DataFrame:\n",
    "    \"\"\"\n",
    "    Description\n",
    "    --------------\n",
    "    We are using Pandas to read the .csv file. If this works, then the\n",
    "    function will return the \n",
    "\n",
    "    Parameters\n",
    "    --------------\n",
    "    name_of_csv_file: str\n",
    "    \n",
    "    Returns\n",
    "    --------------\n",
    "    pandas_read_csv: Pandas DF\n",
    "\n",
    "    Function Flow\n",
    "    --------------\n",
    "    (1): Try to read the CSV with Pandas. If it works,\n",
    "        it works. YAY! If it don't, then return None.\n",
    "    \n",
    "    Notes\n",
    "    --------------\n",
    "    \"\"\"\n",
    "    try:\n",
    "        pandas_read_csv = pd.read_csv(name_of_csv_file)\n",
    "        return pandas_read_csv\n",
    "    except Exception as E:\n",
    "        print(f\"> Error reading the .csv file with Pandas:\\n> {E}\")\n",
    "        return None"
   ]
  },
  {
   "cell_type": "markdown",
   "metadata": {},
   "source": [
    "Let's read in the kinematic data:"
   ]
  },
  {
   "cell_type": "code",
   "execution_count": 21,
   "metadata": {},
   "outputs": [
    {
     "data": {
      "text/html": [
       "<div>\n",
       "<style scoped>\n",
       "    .dataframe tbody tr th:only-of-type {\n",
       "        vertical-align: middle;\n",
       "    }\n",
       "\n",
       "    .dataframe tbody tr th {\n",
       "        vertical-align: top;\n",
       "    }\n",
       "\n",
       "    .dataframe thead th {\n",
       "        text-align: right;\n",
       "    }\n",
       "</style>\n",
       "<table border=\"1\" class=\"dataframe\">\n",
       "  <thead>\n",
       "    <tr style=\"text-align: right;\">\n",
       "      <th></th>\n",
       "      <th>k</th>\n",
       "      <th>QQ</th>\n",
       "      <th>x_b</th>\n",
       "      <th>t</th>\n",
       "      <th>phi_x</th>\n",
       "      <th>F</th>\n",
       "      <th>sigmaF</th>\n",
       "      <th>ReH</th>\n",
       "      <th>ReE</th>\n",
       "      <th>ReHt</th>\n",
       "      <th>dvcs</th>\n",
       "    </tr>\n",
       "  </thead>\n",
       "  <tbody>\n",
       "    <tr>\n",
       "      <th>0</th>\n",
       "      <td>5.75</td>\n",
       "      <td>1.82</td>\n",
       "      <td>0.343</td>\n",
       "      <td>-0.172</td>\n",
       "      <td>7.5</td>\n",
       "      <td>0.120053</td>\n",
       "      <td>0.00492</td>\n",
       "      <td>-0.992404</td>\n",
       "      <td>-0.31</td>\n",
       "      <td>-0.396272</td>\n",
       "      <td>0.017761</td>\n",
       "    </tr>\n",
       "    <tr>\n",
       "      <th>1</th>\n",
       "      <td>5.75</td>\n",
       "      <td>1.82</td>\n",
       "      <td>0.343</td>\n",
       "      <td>-0.172</td>\n",
       "      <td>22.5</td>\n",
       "      <td>0.114969</td>\n",
       "      <td>0.00468</td>\n",
       "      <td>-0.992404</td>\n",
       "      <td>-0.31</td>\n",
       "      <td>-0.396272</td>\n",
       "      <td>0.017761</td>\n",
       "    </tr>\n",
       "    <tr>\n",
       "      <th>2</th>\n",
       "      <td>5.75</td>\n",
       "      <td>1.82</td>\n",
       "      <td>0.343</td>\n",
       "      <td>-0.172</td>\n",
       "      <td>37.5</td>\n",
       "      <td>0.106078</td>\n",
       "      <td>0.00420</td>\n",
       "      <td>-0.992404</td>\n",
       "      <td>-0.31</td>\n",
       "      <td>-0.396272</td>\n",
       "      <td>0.017761</td>\n",
       "    </tr>\n",
       "    <tr>\n",
       "      <th>3</th>\n",
       "      <td>5.75</td>\n",
       "      <td>1.82</td>\n",
       "      <td>0.343</td>\n",
       "      <td>-0.172</td>\n",
       "      <td>52.5</td>\n",
       "      <td>0.095266</td>\n",
       "      <td>0.00396</td>\n",
       "      <td>-0.992404</td>\n",
       "      <td>-0.31</td>\n",
       "      <td>-0.396272</td>\n",
       "      <td>0.017761</td>\n",
       "    </tr>\n",
       "    <tr>\n",
       "      <th>4</th>\n",
       "      <td>5.75</td>\n",
       "      <td>1.82</td>\n",
       "      <td>0.343</td>\n",
       "      <td>-0.172</td>\n",
       "      <td>67.5</td>\n",
       "      <td>0.084249</td>\n",
       "      <td>0.00360</td>\n",
       "      <td>-0.992404</td>\n",
       "      <td>-0.31</td>\n",
       "      <td>-0.396272</td>\n",
       "      <td>0.017761</td>\n",
       "    </tr>\n",
       "  </tbody>\n",
       "</table>\n",
       "</div>"
      ],
      "text/plain": [
       "      k    QQ    x_b      t  phi_x         F   sigmaF       ReH   ReE  \\\n",
       "0  5.75  1.82  0.343 -0.172    7.5  0.120053  0.00492 -0.992404 -0.31   \n",
       "1  5.75  1.82  0.343 -0.172   22.5  0.114969  0.00468 -0.992404 -0.31   \n",
       "2  5.75  1.82  0.343 -0.172   37.5  0.106078  0.00420 -0.992404 -0.31   \n",
       "3  5.75  1.82  0.343 -0.172   52.5  0.095266  0.00396 -0.992404 -0.31   \n",
       "4  5.75  1.82  0.343 -0.172   67.5  0.084249  0.00360 -0.992404 -0.31   \n",
       "\n",
       "       ReHt      dvcs  \n",
       "0 -0.396272  0.017761  \n",
       "1 -0.396272  0.017761  \n",
       "2 -0.396272  0.017761  \n",
       "3 -0.396272  0.017761  \n",
       "4 -0.396272  0.017761  "
      ]
     },
     "execution_count": 21,
     "metadata": {},
     "output_type": "execute_result"
    }
   ],
   "source": [
    "jlab_pandas_df = read_csv_file_with_pandas('jlab_kinematics.csv')\n",
    "jlab_pandas_df.head()"
   ]
  },
  {
   "cell_type": "markdown",
   "metadata": {},
   "source": [
    "Now, let's try what ChatGPT suggested. As you can see, the name of the column we were talking about is `\"x_b\"`."
   ]
  },
  {
   "cell_type": "code",
   "execution_count": 22,
   "metadata": {},
   "outputs": [
    {
     "name": "stdout",
     "output_type": "stream",
     "text": [
      "[0.3429999947547912, 0.3680000007152557, 0.375, 0.3790000081062317, 0.3810000121593475, 0.3449999988079071, 0.3630000054836273, 0.3709999918937683, 0.3729999959468841, 0.3779999911785126, 0.3919999897480011, 0.3980000019073486, 0.4000000059604645, 0.4009999930858612, 0.335999995470047, 0.3420000076293945, 0.3650000095367431, 0.363999992609024, 0.367000013589859, 0.3689999878406524, 0.3700000047683716, 0.3720000088214874, 0.4830000102519989, 0.4839999973773956, 0.4850000143051147, 0.4970000088214874, 0.5009999871253967, 0.5040000081062317, 0.5059999823570251, 0.5080000162124634, 0.4819999933242798, 0.4860000014305115, 0.4939999878406524, 0.4979999959468841, 0.4990000128746032, 0.6100000143051147, 0.6119999885559082, 0.6150000095367432, 0.6169999837875366, 0.6159999966621399, 0.6079999804496765, 0.609000027179718, 0.6110000014305115, 0.6129999756813049, 0.1260000020265579, 0.1539999991655349, 0.1550000011920929, 0.1840000003576278, 0.1850000023841858, 0.2140000015497207, 0.2150000035762787, 0.2440000027418136, 0.2450000047683715, 0.2739999890327453, 0.2750000059604645, 0.3009999990463257, 0.3039999902248382, 0.3050000071525574, 0.3330000042915344, 0.3350000083446502, 0.3930000066757202, 0.3989999890327453, 0.3910000026226043, 0.4329999983310699, 0.4490000009536743, 0.460999995470047, 0.4300000071525574, 0.4510000050067901, 0.4749999940395355, 0.3589999973773956, 0.3610000014305115, 0.3569999933242798, 0.356000006198883, 0.3580000102519989, 0.3600000143051147]\n"
     ]
    }
   ],
   "source": [
    "def get_distinct_numbers(column):\n",
    "    unique_numbers = column.unique()\n",
    "    return unique_numbers.tolist()\n",
    "\n",
    "# Example usage:\n",
    "# Assuming df is your DataFrame and 'x_B' is the column of interest\n",
    "distinct_numbers_x_B = get_distinct_numbers(jlab_pandas_df['x_b'])\n",
    "print(distinct_numbers_x_B)\n"
   ]
  },
  {
   "cell_type": "markdown",
   "metadata": {},
   "source": [
    "That seemed to do the trick. We can now immediately apply this function to the other columns of kinematic data, namely $Q^{2}$ and $-t$."
   ]
  },
  {
   "cell_type": "code",
   "execution_count": 23,
   "metadata": {},
   "outputs": [
    {
     "name": "stdout",
     "output_type": "stream",
     "text": [
      "> Phase space contains 95 Q-squared points, 75 xB points, and 85 t points.\n"
     ]
    }
   ],
   "source": [
    "distinct_kinematic_Q_squared_ranges = get_distinct_numbers(jlab_pandas_df['QQ'])\n",
    "distinct_kinematic_x_Bjorken_ranges = get_distinct_numbers(jlab_pandas_df['x_b'])\n",
    "distinct_kinematic_t_ranges = get_distinct_numbers(jlab_pandas_df['t'])\n",
    "\n",
    "print(f\"> Phase space contains {len(distinct_kinematic_Q_squared_ranges)} Q-squared points, {len(distinct_kinematic_x_Bjorken_ranges)} xB points, and {len(distinct_kinematic_t_ranges)} t points.\")"
   ]
  },
  {
   "cell_type": "markdown",
   "metadata": {},
   "source": [
    "That's quite a lot of points. Upon revisiting the numbers present in these columns, we find that there isn't much difference really between a number for $x_{B}$ like 0.3680000007152557 and 0.375. So, perhaps what we should do is limit our search for *all* unique numbers in the DataFrame and instead search for unique numbers within a particular significance, say 0.001. I am imagining that there's a Pandas operation that enables us to do this in one fell swoop, but we can also ask ChatGPT.\n",
    "\n",
    "**Me**:\n",
    "\n",
    "> Thanks for the great function. Let's make it a little more complicated. It turned out that several of the unique numbers in the column differ by one part in perhaps 1000. I would now like to focus on those numbers present in the column that are unique to only within 1 in 1000. As an example, we need a function that no longer considers a the numbers `1.2345` and `1.2346` as unique. Recall that we're still using the Pandas architecture. Please write a function that performs this operation. The result should still be that list.\n",
    "\n",
    "**ChatGPT**:\n",
    "\n",
    "> To achieve this refinement, you can modify the function to round the numbers in the column to a certain decimal place before finding the distinct values. Here's how you can do it:\n",
    "\n",
    "```python\n",
    "import pandas as pd\n",
    "\n",
    "def get_distinct_numbers_rounded(column, decimal_places=3):\n",
    "    rounded_numbers = column.round(decimal_places)\n",
    "    unique_rounded_numbers = rounded_numbers.unique()\n",
    "    return unique_rounded_numbers.tolist()\n",
    "\n",
    "# Example usage:\n",
    "# Assuming df is your DataFrame and 'x_B' is the column of interest\n",
    "distinct_numbers_x_B_rounded = get_distinct_numbers_rounded(df['x_B'], decimal_places=3)\n",
    "print(distinct_numbers_x_B_rounded)\n",
    "```\n",
    "\n",
    "> In this version, decimal_places determines the level of precision to which the numbers will be rounded before considering them as distinct. Adjust decimal_places as needed for your specific requirements.\n",
    "\n",
    "Let's now see if this works."
   ]
  },
  {
   "cell_type": "code",
   "execution_count": 24,
   "metadata": {},
   "outputs": [
    {
     "name": "stdout",
     "output_type": "stream",
     "text": [
      "[0.343, 0.368, 0.375, 0.379, 0.381, 0.345, 0.363, 0.371, 0.373, 0.378, 0.392, 0.398, 0.4, 0.401, 0.336, 0.342, 0.365, 0.364, 0.367, 0.369, 0.37, 0.372, 0.483, 0.484, 0.485, 0.497, 0.501, 0.504, 0.506, 0.508, 0.482, 0.486, 0.494, 0.498, 0.499, 0.61, 0.612, 0.615, 0.617, 0.616, 0.608, 0.609, 0.611, 0.613, 0.126, 0.154, 0.155, 0.184, 0.185, 0.214, 0.215, 0.244, 0.245, 0.274, 0.275, 0.301, 0.304, 0.305, 0.333, 0.335, 0.393, 0.399, 0.391, 0.433, 0.449, 0.461, 0.43, 0.451, 0.475, 0.359, 0.361, 0.357, 0.356, 0.358, 0.36]\n"
     ]
    }
   ],
   "source": [
    "def get_distinct_numbers_rounded(column, decimal_places=3):\n",
    "    rounded_numbers = column.round(decimal_places)\n",
    "    unique_rounded_numbers = rounded_numbers.unique()\n",
    "    return unique_rounded_numbers.tolist()\n",
    "\n",
    "# Example usage:\n",
    "# Assuming df is your DataFrame and 'x_B' is the column of interest\n",
    "distinct_numbers_x_B_rounded = get_distinct_numbers_rounded(jlab_pandas_df['x_b'], decimal_places=3)\n",
    "print(distinct_numbers_x_B_rounded)"
   ]
  },
  {
   "cell_type": "markdown",
   "metadata": {},
   "source": [
    "Quickly comparing the number of unique quantities:"
   ]
  },
  {
   "cell_type": "code",
   "execution_count": 25,
   "metadata": {},
   "outputs": [
    {
     "name": "stdout",
     "output_type": "stream",
     "text": [
      "75\n",
      "75\n",
      "30\n",
      "6\n"
     ]
    }
   ],
   "source": [
    "print(len(get_distinct_numbers(jlab_pandas_df['x_b'])))\n",
    "print(len(get_distinct_numbers_rounded(jlab_pandas_df['x_b'], decimal_places = 3)))\n",
    "print(len(get_distinct_numbers_rounded(jlab_pandas_df['x_b'], decimal_places = 2)))\n",
    "print(len(get_distinct_numbers_rounded(jlab_pandas_df['x_b'], decimal_places = 1)))"
   ]
  },
  {
   "cell_type": "markdown",
   "metadata": {},
   "source": [
    "As we specify to lesser precision, we are cutting off more and more of the available data that we have, and that is what we expected. So, that seems to be good to go.\n",
    "\n",
    "Let us do this now for $Q^{2}$ and $t$."
   ]
  },
  {
   "cell_type": "code",
   "execution_count": 26,
   "metadata": {},
   "outputs": [
    {
     "name": "stdout",
     "output_type": "stream",
     "text": [
      "95\n",
      "83\n",
      "75\n",
      "87\n",
      "50\n",
      "30\n",
      "34\n",
      "13\n",
      "6\n",
      "9\n",
      "2\n",
      "2\n"
     ]
    }
   ],
   "source": [
    "print(len(get_distinct_numbers_rounded(jlab_pandas_df['QQ'], decimal_places = 3)))\n",
    "print(len(get_distinct_numbers_rounded(jlab_pandas_df['t'], decimal_places = 3)))\n",
    "print(len(get_distinct_numbers_rounded(jlab_pandas_df['x_b'], decimal_places = 3)))\n",
    "\n",
    "print(len(get_distinct_numbers_rounded(jlab_pandas_df['QQ'], decimal_places = 2)))\n",
    "print(len(get_distinct_numbers_rounded(jlab_pandas_df['t'], decimal_places = 2)))\n",
    "print(len(get_distinct_numbers_rounded(jlab_pandas_df['x_b'], decimal_places = 2)))\n",
    "\n",
    "print(len(get_distinct_numbers_rounded(jlab_pandas_df['QQ'], decimal_places = 1)))\n",
    "print(len(get_distinct_numbers_rounded(jlab_pandas_df['t'], decimal_places = 1)))\n",
    "print(len(get_distinct_numbers_rounded(jlab_pandas_df['x_b'], decimal_places = 1)))\n",
    "\n",
    "print(len(get_distinct_numbers_rounded(jlab_pandas_df['QQ'], decimal_places = 0)))\n",
    "print(len(get_distinct_numbers_rounded(jlab_pandas_df['t'], decimal_places = 0)))\n",
    "print(len(get_distinct_numbers_rounded(jlab_pandas_df['x_b'], decimal_places = 0)))"
   ]
  },
  {
   "cell_type": "markdown",
   "metadata": {},
   "source": [
    "The reason this is important is because it will actually determine how many plots we can make. For example, even if we are considering a single damn decimal place to identify \"unique\" numbers within this dataset, it will still lead to $34 \\times 13 \\times 6 = 2652$ different kinematic settings, which is that many possible fits of $\\sigma$ vs. $\\phi$. That is definitely not ideal."
   ]
  },
  {
   "cell_type": "markdown",
   "metadata": {},
   "source": [
    "Now, usually what is done with these plots is that the values of $Q^{2}$ and $x_{B}$ are fixed, and then we make several plots that show the functional dependence of $\\sigma$ on $\\phi$ at different values of $t$. So, what we really need to specify is, for a given tuple of fixed $Q^{2}$ and $x_{B}$, we need to figure out how many values of $t$ there are, and then extract those corresponding indices in the DataFrame. How would ChatGPT do this? Let's ask it, because this is a pretty simple idea:\n",
    "\n",
    "**Me**:\n",
    "\n",
    "> Let's go back to the idea of getting the \"distinct\" numbers in a Pandas DataFrame. Now, I need to obtain another piece of information: The indices of that particular set of numbers. Let me be more specific. I have three columns in Dataframe: `\"x_b\", \"QQ\", \"t\"`. What I need you to do is to write a function that, once provided a FIXED and unique value for `\"x_b\"` and `\"QQ\"`, finds the range of indices for which those values are found. Remember: You need to use the idea that we are considering several numbers to be the same. That is, if I provide the values `x_b = 0.184` and `QQ = 2.87`, then you need to find the range of indices that corresponds to those values of `x_B` and `QQ` that are \"unique\" up to that specified precision. The reason I am concerned about this is because, if I provide the value `x_b = 0.184`, then, because the DataFrame has such high precision, there will be NO matches with this exact number.\n",
    "\n",
    "**ChatGPT**:\n",
    "\n",
    "> You can achieve this by rounding the values in the DataFrame before comparing them to the fixed and unique values. Here's a function that does that:\n",
    "\n",
    "```python\n",
    "import pandas as pd\n",
    "\n",
    "def find_indices_for_values(df, x_b_value, QQ_value, decimal_places=3):\n",
    "    # Round the values in the DataFrame to the specified decimal places\n",
    "    rounded_df = df.round({ 'x_b': decimal_places, 'QQ': decimal_places })\n",
    "    \n",
    "    # Find the indices where the rounded values match the fixed and unique values\n",
    "    indices = rounded_df[(rounded_df['x_b'] == x_b_value) & (rounded_df['QQ'] == QQ_value)].index\n",
    "    \n",
    "    # Get the range of indices\n",
    "    start_index = indices.min() if not indices.empty else None\n",
    "    end_index = indices.max() if not indices.empty else None\n",
    "    \n",
    "    return start_index, end_index\n",
    "\n",
    "# Example usage:\n",
    "# Assuming df is your DataFrame with columns 'x_b', 'QQ', and 't'\n",
    "start_idx, end_idx = find_indices_for_values(df, x_b_value=0.184, QQ_value=2.87, decimal_places=3)\n",
    "print(f\"Range of indices for x_b = 0.184 and QQ = 2.87: {start_idx} to {end_idx}\")\n",
    "```\n",
    "\n",
    "> This function first rounds the values in the DataFrame to the specified decimal places, then finds the indices where the rounded values match the fixed and unique values for x_b and QQ. It returns the range of indices corresponding to those values. Adjust decimal_places as needed for your precision requirements."
   ]
  },
  {
   "cell_type": "markdown",
   "metadata": {},
   "source": [
    "We will now test to see if this does the trick. It definitely does look a little suspicious..."
   ]
  },
  {
   "cell_type": "code",
   "execution_count": 27,
   "metadata": {},
   "outputs": [
    {
     "name": "stdout",
     "output_type": "stream",
     "text": [
      "Range of indices for x_b = 0.184 and QQ = 2.87: None to None\n"
     ]
    }
   ],
   "source": [
    "def find_indices_for_values(df, x_b_value, QQ_value, decimal_places = 3):\n",
    "    # Round the values in the DataFrame to the specified decimal places\n",
    "    rounded_df = df.round({ 'x_b': decimal_places, 'QQ': decimal_places })\n",
    "    \n",
    "    # Find the indices where the rounded values match the fixed and unique values\n",
    "    indices = rounded_df[(rounded_df['x_b'] == x_b_value) & (rounded_df['QQ'] == QQ_value)].index\n",
    "    \n",
    "    # Get the range of indices\n",
    "    start_index = indices.min() if not indices.empty else None\n",
    "    end_index = indices.max() if not indices.empty else None\n",
    "    \n",
    "    return start_index, end_index\n",
    "\n",
    "# Example usage:\n",
    "# Assuming df is your DataFrame with columns 'x_b', 'QQ', and 't'\n",
    "start_idx, end_idx = find_indices_for_values(jlab_pandas_df, x_b_value = 0.184, QQ_value = 2.87, decimal_places=3)\n",
    "print(f\"Range of indices for x_b = 0.184 and QQ = 2.87: {start_idx} to {end_idx}\")\n"
   ]
  },
  {
   "cell_type": "markdown",
   "metadata": {},
   "source": [
    "Well, it doesn't seem to work, but there might indeed not be these numbers for $x_{B}$ and $Q^{2}$ in the dataset. So, let's pull this apart and verify that it can work.\n",
    "\n",
    "My first question is, Does `df.round()` actually do the trick?"
   ]
  },
  {
   "cell_type": "code",
   "execution_count": 28,
   "metadata": {},
   "outputs": [
    {
     "data": {
      "text/html": [
       "<div>\n",
       "<style scoped>\n",
       "    .dataframe tbody tr th:only-of-type {\n",
       "        vertical-align: middle;\n",
       "    }\n",
       "\n",
       "    .dataframe tbody tr th {\n",
       "        vertical-align: top;\n",
       "    }\n",
       "\n",
       "    .dataframe thead th {\n",
       "        text-align: right;\n",
       "    }\n",
       "</style>\n",
       "<table border=\"1\" class=\"dataframe\">\n",
       "  <thead>\n",
       "    <tr style=\"text-align: right;\">\n",
       "      <th></th>\n",
       "      <th>k</th>\n",
       "      <th>QQ</th>\n",
       "      <th>x_b</th>\n",
       "      <th>t</th>\n",
       "      <th>phi_x</th>\n",
       "      <th>F</th>\n",
       "      <th>sigmaF</th>\n",
       "      <th>ReH</th>\n",
       "      <th>ReE</th>\n",
       "      <th>ReHt</th>\n",
       "      <th>dvcs</th>\n",
       "    </tr>\n",
       "  </thead>\n",
       "  <tbody>\n",
       "    <tr>\n",
       "      <th>0</th>\n",
       "      <td>5.75</td>\n",
       "      <td>1.82</td>\n",
       "      <td>0.34</td>\n",
       "      <td>-0.172</td>\n",
       "      <td>7.5</td>\n",
       "      <td>0.120053</td>\n",
       "      <td>0.00492</td>\n",
       "      <td>-0.992404</td>\n",
       "      <td>-0.31</td>\n",
       "      <td>-0.396272</td>\n",
       "      <td>0.017761</td>\n",
       "    </tr>\n",
       "    <tr>\n",
       "      <th>1</th>\n",
       "      <td>5.75</td>\n",
       "      <td>1.82</td>\n",
       "      <td>0.34</td>\n",
       "      <td>-0.172</td>\n",
       "      <td>22.5</td>\n",
       "      <td>0.114969</td>\n",
       "      <td>0.00468</td>\n",
       "      <td>-0.992404</td>\n",
       "      <td>-0.31</td>\n",
       "      <td>-0.396272</td>\n",
       "      <td>0.017761</td>\n",
       "    </tr>\n",
       "    <tr>\n",
       "      <th>2</th>\n",
       "      <td>5.75</td>\n",
       "      <td>1.82</td>\n",
       "      <td>0.34</td>\n",
       "      <td>-0.172</td>\n",
       "      <td>37.5</td>\n",
       "      <td>0.106078</td>\n",
       "      <td>0.00420</td>\n",
       "      <td>-0.992404</td>\n",
       "      <td>-0.31</td>\n",
       "      <td>-0.396272</td>\n",
       "      <td>0.017761</td>\n",
       "    </tr>\n",
       "    <tr>\n",
       "      <th>3</th>\n",
       "      <td>5.75</td>\n",
       "      <td>1.82</td>\n",
       "      <td>0.34</td>\n",
       "      <td>-0.172</td>\n",
       "      <td>52.5</td>\n",
       "      <td>0.095266</td>\n",
       "      <td>0.00396</td>\n",
       "      <td>-0.992404</td>\n",
       "      <td>-0.31</td>\n",
       "      <td>-0.396272</td>\n",
       "      <td>0.017761</td>\n",
       "    </tr>\n",
       "    <tr>\n",
       "      <th>4</th>\n",
       "      <td>5.75</td>\n",
       "      <td>1.82</td>\n",
       "      <td>0.34</td>\n",
       "      <td>-0.172</td>\n",
       "      <td>67.5</td>\n",
       "      <td>0.084249</td>\n",
       "      <td>0.00360</td>\n",
       "      <td>-0.992404</td>\n",
       "      <td>-0.31</td>\n",
       "      <td>-0.396272</td>\n",
       "      <td>0.017761</td>\n",
       "    </tr>\n",
       "  </tbody>\n",
       "</table>\n",
       "</div>"
      ],
      "text/plain": [
       "      k    QQ   x_b      t  phi_x         F   sigmaF       ReH   ReE  \\\n",
       "0  5.75  1.82  0.34 -0.172    7.5  0.120053  0.00492 -0.992404 -0.31   \n",
       "1  5.75  1.82  0.34 -0.172   22.5  0.114969  0.00468 -0.992404 -0.31   \n",
       "2  5.75  1.82  0.34 -0.172   37.5  0.106078  0.00420 -0.992404 -0.31   \n",
       "3  5.75  1.82  0.34 -0.172   52.5  0.095266  0.00396 -0.992404 -0.31   \n",
       "4  5.75  1.82  0.34 -0.172   67.5  0.084249  0.00360 -0.992404 -0.31   \n",
       "\n",
       "       ReHt      dvcs  \n",
       "0 -0.396272  0.017761  \n",
       "1 -0.396272  0.017761  \n",
       "2 -0.396272  0.017761  \n",
       "3 -0.396272  0.017761  \n",
       "4 -0.396272  0.017761  "
      ]
     },
     "execution_count": 28,
     "metadata": {},
     "output_type": "execute_result"
    }
   ],
   "source": [
    "rounded_jlab_data = jlab_pandas_df.round({ 'x_b': 2, 'QQ': 2 })\n",
    "rounded_jlab_data.head()"
   ]
  },
  {
   "cell_type": "markdown",
   "metadata": {},
   "source": [
    "That does seem to work. So, in other words, what ChatGPT suggested involves mutating the original DataFrame. That seems okay for now, but we might not want this later.\n",
    "\n",
    "Secondly, we see if indexing this new DataFrame can do the trick. I think it probably can, but we'll check. "
   ]
  },
  {
   "cell_type": "code",
   "execution_count": 29,
   "metadata": {},
   "outputs": [
    {
     "data": {
      "text/plain": [
       "Index([ 0,  1,  2,  3,  4,  5,  6,  7,  8,  9, 10, 11, 12, 13, 14, 15, 16, 17,\n",
       "       18, 19, 20, 21, 22, 23],\n",
       "      dtype='int64')"
      ]
     },
     "execution_count": 29,
     "metadata": {},
     "output_type": "execute_result"
    }
   ],
   "source": [
    "rounded_jlab_data[(rounded_jlab_data['x_b'] == 0.34) & (rounded_jlab_data['QQ'] == 1.82)].index"
   ]
  },
  {
   "cell_type": "markdown",
   "metadata": {},
   "source": [
    "That was successful. These tests give more credence to the idea that ChatGPT can actually code things correctly and we're being stupid. So, I'm inclined to believe that extracting the `.min()` and `.max()` methods do what they do.\n",
    "\n",
    "So, let's now just try the function one more time:"
   ]
  },
  {
   "cell_type": "code",
   "execution_count": 30,
   "metadata": {},
   "outputs": [
    {
     "name": "stdout",
     "output_type": "stream",
     "text": [
      "Range of indices for x_b = 0.34 and QQ = 1.82: None to None\n"
     ]
    }
   ],
   "source": [
    "start_idx, end_idx = find_indices_for_values(jlab_pandas_df, x_b_value = 0.34, QQ_value = 1.8, decimal_places = 2)\n",
    "print(f\"Range of indices for x_b = 0.34 and QQ = 1.82: {start_idx} to {end_idx}\")"
   ]
  },
  {
   "cell_type": "markdown",
   "metadata": {},
   "source": [
    "The reason we wanted that function was so that we could now pull out all the unique values of $t$ like so:"
   ]
  },
  {
   "cell_type": "code",
   "execution_count": 31,
   "metadata": {},
   "outputs": [
    {
     "data": {
      "text/plain": [
       "0      -0.172\n",
       "1      -0.172\n",
       "2      -0.172\n",
       "3      -0.172\n",
       "4      -0.172\n",
       "        ...  \n",
       "4675   -0.304\n",
       "4676   -0.304\n",
       "4677   -0.304\n",
       "4678   -0.304\n",
       "4679   -0.304\n",
       "Name: t, Length: 4680, dtype: float64"
      ]
     },
     "execution_count": 31,
     "metadata": {},
     "output_type": "execute_result"
    }
   ],
   "source": [
    "jlab_pandas_df['t'][start_idx:end_idx]"
   ]
  },
  {
   "cell_type": "markdown",
   "metadata": {},
   "source": [
    "We need to test whether or not this can work if there are different values of $t$ that pop up here."
   ]
  },
  {
   "cell_type": "code",
   "execution_count": 32,
   "metadata": {},
   "outputs": [
    {
     "data": {
      "text/html": [
       "<div>\n",
       "<style scoped>\n",
       "    .dataframe tbody tr th:only-of-type {\n",
       "        vertical-align: middle;\n",
       "    }\n",
       "\n",
       "    .dataframe tbody tr th {\n",
       "        vertical-align: top;\n",
       "    }\n",
       "\n",
       "    .dataframe thead th {\n",
       "        text-align: right;\n",
       "    }\n",
       "</style>\n",
       "<table border=\"1\" class=\"dataframe\">\n",
       "  <thead>\n",
       "    <tr style=\"text-align: right;\">\n",
       "      <th></th>\n",
       "      <th>k</th>\n",
       "      <th>QQ</th>\n",
       "      <th>x_b</th>\n",
       "      <th>t</th>\n",
       "      <th>phi_x</th>\n",
       "      <th>F</th>\n",
       "      <th>sigmaF</th>\n",
       "      <th>ReH</th>\n",
       "      <th>ReE</th>\n",
       "      <th>ReHt</th>\n",
       "      <th>dvcs</th>\n",
       "    </tr>\n",
       "  </thead>\n",
       "  <tbody>\n",
       "    <tr>\n",
       "      <th>500</th>\n",
       "      <td>7.383</td>\n",
       "      <td>3.17</td>\n",
       "      <td>0.363</td>\n",
       "      <td>-0.21085</td>\n",
       "      <td>307.5</td>\n",
       "      <td>0.045978</td>\n",
       "      <td>0.00176</td>\n",
       "      <td>-1.180453</td>\n",
       "      <td>-0.31</td>\n",
       "      <td>-0.360229</td>\n",
       "      <td>0.014116</td>\n",
       "    </tr>\n",
       "    <tr>\n",
       "      <th>501</th>\n",
       "      <td>7.383</td>\n",
       "      <td>3.17</td>\n",
       "      <td>0.363</td>\n",
       "      <td>-0.21085</td>\n",
       "      <td>322.5</td>\n",
       "      <td>0.049722</td>\n",
       "      <td>0.00191</td>\n",
       "      <td>-1.180453</td>\n",
       "      <td>-0.31</td>\n",
       "      <td>-0.360229</td>\n",
       "      <td>0.014116</td>\n",
       "    </tr>\n",
       "    <tr>\n",
       "      <th>502</th>\n",
       "      <td>7.383</td>\n",
       "      <td>3.17</td>\n",
       "      <td>0.363</td>\n",
       "      <td>-0.21085</td>\n",
       "      <td>337.5</td>\n",
       "      <td>0.052776</td>\n",
       "      <td>0.00209</td>\n",
       "      <td>-1.180453</td>\n",
       "      <td>-0.31</td>\n",
       "      <td>-0.360229</td>\n",
       "      <td>0.014116</td>\n",
       "    </tr>\n",
       "    <tr>\n",
       "      <th>503</th>\n",
       "      <td>7.383</td>\n",
       "      <td>3.17</td>\n",
       "      <td>0.363</td>\n",
       "      <td>-0.21085</td>\n",
       "      <td>352.5</td>\n",
       "      <td>0.054513</td>\n",
       "      <td>0.00214</td>\n",
       "      <td>-1.180453</td>\n",
       "      <td>-0.31</td>\n",
       "      <td>-0.360229</td>\n",
       "      <td>0.014116</td>\n",
       "    </tr>\n",
       "    <tr>\n",
       "      <th>504</th>\n",
       "      <td>7.383</td>\n",
       "      <td>3.17</td>\n",
       "      <td>0.363</td>\n",
       "      <td>-0.29665</td>\n",
       "      <td>7.5</td>\n",
       "      <td>0.049777</td>\n",
       "      <td>0.00215</td>\n",
       "      <td>-1.197058</td>\n",
       "      <td>-0.31</td>\n",
       "      <td>-0.294028</td>\n",
       "      <td>0.010484</td>\n",
       "    </tr>\n",
       "    <tr>\n",
       "      <th>505</th>\n",
       "      <td>7.383</td>\n",
       "      <td>3.17</td>\n",
       "      <td>0.363</td>\n",
       "      <td>-0.29665</td>\n",
       "      <td>22.5</td>\n",
       "      <td>0.046459</td>\n",
       "      <td>0.00200</td>\n",
       "      <td>-1.197058</td>\n",
       "      <td>-0.31</td>\n",
       "      <td>-0.294028</td>\n",
       "      <td>0.010484</td>\n",
       "    </tr>\n",
       "    <tr>\n",
       "      <th>506</th>\n",
       "      <td>7.383</td>\n",
       "      <td>3.17</td>\n",
       "      <td>0.363</td>\n",
       "      <td>-0.29665</td>\n",
       "      <td>37.5</td>\n",
       "      <td>0.041239</td>\n",
       "      <td>0.00190</td>\n",
       "      <td>-1.197058</td>\n",
       "      <td>-0.31</td>\n",
       "      <td>-0.294028</td>\n",
       "      <td>0.010484</td>\n",
       "    </tr>\n",
       "    <tr>\n",
       "      <th>507</th>\n",
       "      <td>7.383</td>\n",
       "      <td>3.17</td>\n",
       "      <td>0.363</td>\n",
       "      <td>-0.29665</td>\n",
       "      <td>52.5</td>\n",
       "      <td>0.035732</td>\n",
       "      <td>0.00162</td>\n",
       "      <td>-1.197058</td>\n",
       "      <td>-0.31</td>\n",
       "      <td>-0.294028</td>\n",
       "      <td>0.010484</td>\n",
       "    </tr>\n",
       "    <tr>\n",
       "      <th>508</th>\n",
       "      <td>7.383</td>\n",
       "      <td>3.17</td>\n",
       "      <td>0.363</td>\n",
       "      <td>-0.29665</td>\n",
       "      <td>67.5</td>\n",
       "      <td>0.030900</td>\n",
       "      <td>0.00132</td>\n",
       "      <td>-1.197058</td>\n",
       "      <td>-0.31</td>\n",
       "      <td>-0.294028</td>\n",
       "      <td>0.010484</td>\n",
       "    </tr>\n",
       "    <tr>\n",
       "      <th>509</th>\n",
       "      <td>7.383</td>\n",
       "      <td>3.17</td>\n",
       "      <td>0.363</td>\n",
       "      <td>-0.29665</td>\n",
       "      <td>82.5</td>\n",
       "      <td>0.027050</td>\n",
       "      <td>0.00119</td>\n",
       "      <td>-1.197058</td>\n",
       "      <td>-0.31</td>\n",
       "      <td>-0.294028</td>\n",
       "      <td>0.010484</td>\n",
       "    </tr>\n",
       "  </tbody>\n",
       "</table>\n",
       "</div>"
      ],
      "text/plain": [
       "         k    QQ    x_b        t  phi_x         F   sigmaF       ReH   ReE  \\\n",
       "500  7.383  3.17  0.363 -0.21085  307.5  0.045978  0.00176 -1.180453 -0.31   \n",
       "501  7.383  3.17  0.363 -0.21085  322.5  0.049722  0.00191 -1.180453 -0.31   \n",
       "502  7.383  3.17  0.363 -0.21085  337.5  0.052776  0.00209 -1.180453 -0.31   \n",
       "503  7.383  3.17  0.363 -0.21085  352.5  0.054513  0.00214 -1.180453 -0.31   \n",
       "504  7.383  3.17  0.363 -0.29665    7.5  0.049777  0.00215 -1.197058 -0.31   \n",
       "505  7.383  3.17  0.363 -0.29665   22.5  0.046459  0.00200 -1.197058 -0.31   \n",
       "506  7.383  3.17  0.363 -0.29665   37.5  0.041239  0.00190 -1.197058 -0.31   \n",
       "507  7.383  3.17  0.363 -0.29665   52.5  0.035732  0.00162 -1.197058 -0.31   \n",
       "508  7.383  3.17  0.363 -0.29665   67.5  0.030900  0.00132 -1.197058 -0.31   \n",
       "509  7.383  3.17  0.363 -0.29665   82.5  0.027050  0.00119 -1.197058 -0.31   \n",
       "\n",
       "         ReHt      dvcs  \n",
       "500 -0.360229  0.014116  \n",
       "501 -0.360229  0.014116  \n",
       "502 -0.360229  0.014116  \n",
       "503 -0.360229  0.014116  \n",
       "504 -0.294028  0.010484  \n",
       "505 -0.294028  0.010484  \n",
       "506 -0.294028  0.010484  \n",
       "507 -0.294028  0.010484  \n",
       "508 -0.294028  0.010484  \n",
       "509 -0.294028  0.010484  "
      ]
     },
     "execution_count": 32,
     "metadata": {},
     "output_type": "execute_result"
    }
   ],
   "source": [
    "jlab_pandas_df[500:510]"
   ]
  },
  {
   "cell_type": "code",
   "execution_count": 33,
   "metadata": {},
   "outputs": [
    {
     "name": "stdout",
     "output_type": "stream",
     "text": [
      "Range of indices for x_b = 0.363 and QQ = 3.17: 480 to 527\n"
     ]
    },
    {
     "data": {
      "text/plain": [
       "[-0.2108500003814697, -0.2966499924659729]"
      ]
     },
     "execution_count": 33,
     "metadata": {},
     "output_type": "execute_result"
    }
   ],
   "source": [
    "xb_value_1 = 0.363\t\n",
    "qq_value_1 = 3.17\n",
    "number_of_decimal_places = 3\n",
    "\n",
    "starting_index_1, ending_index_1 = find_indices_for_values(\n",
    "    jlab_pandas_df, \n",
    "    x_b_value = xb_value_1, \n",
    "    QQ_value = qq_value_1, \n",
    "    decimal_places = number_of_decimal_places)\n",
    "\n",
    "print(f\"Range of indices for x_b = {xb_value_1} and QQ = {qq_value_1}: {starting_index_1} to {ending_index_1}\")\n",
    "\n",
    "jlab_pandas_df['t'][starting_index_1:ending_index_1]\n",
    "\n",
    "get_distinct_numbers(jlab_pandas_df['t'][starting_index_1:ending_index_1])"
   ]
  },
  {
   "cell_type": "markdown",
   "metadata": {},
   "source": [
    "What the above says is that there are two unique numbers for $t$ at fixed values of $Q^{2} = 3.17$ and $x_{B} = 0.363$. This is important because the number of unique numbers for $t$ (up to some significance) will determine the number of plots that we create. (We are going to foliate through $t$ at a fixed $Q^{2}$ and $x_{B}$, if that makes any sense.)"
   ]
  },
  {
   "cell_type": "markdown",
   "metadata": {},
   "source": [
    "The next task is quite simple. All we need to do is code up a decent-looking Matplotlib graph that will plot $\\sigma$ vs. $\\phi$ for a particular fixed value of the kinematic quantities, $Q^{2}$, $t$, and $x_{B}$."
   ]
  },
  {
   "cell_type": "markdown",
   "metadata": {},
   "source": [
    "> I need to make N subplots based on the number of \"unique\" values that are in a particular array. So, for example, if I have an array `[4, 4, 4, 5, 5, 6]`, then I need to make 3 subplots. I know I can do this with the `plt.subplots()` functionality, but here is how I'm currently creating figures and plots:\n",
    "\n",
    "```python\n",
    "# (1): Initialize the Figure:\n",
    "    figure_object = plt.figure(\n",
    "        figsize = FIGURE_DIMENSION,\n",
    "        dpi = _FIGURE_DOTS_PIXELS_PER_INCH,\n",
    "        facecolor = \"#e8e8e8\"\n",
    "    )\n",
    "\n",
    "    # (2): Add an Axis to the Main Figure:\n",
    "    AXES_ONE_LEFT = 0.\n",
    "    AXES_ONE_BOTTOM = 0.\n",
    "    AXES_ONE_WIDTH = 1.0 * _FIGURE_X_AXIS_WIDTH_IN_INCHES\n",
    "    AXES_ONE_HEIGHT = 1.0 * _FIGURE_Y_AXIS_HEIGHT_IN_INCHES\n",
    "    axes_object = figure_object.add_axes(\n",
    "        (AXES_ONE_LEFT, AXES_ONE_BOTTOM, AXES_ONE_WIDTH, AXES_ONE_HEIGHT)\n",
    "        )\n",
    "```\n",
    "\n",
    "> As you can see, I add axes separately. Is there any way I can still use this kind of code but prepare for the construction of N subplots?"
   ]
  },
  {
   "cell_type": "code",
   "execution_count": 63,
   "metadata": {},
   "outputs": [],
   "source": [
    "def construct_cross_section_versus_phi(\n",
    "    fixed_kinematic_Q_squared: float,\n",
    "    fixed_kinematic_x_Bjorken: float,\n",
    "    fixed_kinematic_t_momentum: pd.DataFrame,\n",
    "    cross_section_column: pd.DataFrame,\n",
    "    cross_section_errors_column: pd.DataFrame,\n",
    "    phi_azimuth_column: pd.DataFrame\n",
    "    ) -> plt.figure:\n",
    "    \"\"\"\n",
    "    Description\n",
    "    --------------\n",
    "    Construct a lot of F (cross-section) versus phi at \n",
    "    some predetermined, fixed kinematics.\n",
    "\n",
    "    Parameters\n",
    "    --------------\n",
    "    fixed_kinematic_Q_squared: float\n",
    "    \n",
    "    fixed_kinematic_x_Bjorken: float\n",
    "\n",
    "    fixed_kinematic_t_momentum: pd.DataFrame\n",
    "\n",
    "    cross_section_column: pd.DataFrame\n",
    "\n",
    "    cross_section_errors_column: pd.DataFrame\n",
    "\n",
    "    phi_azimuth_column: pd.DataFrame\n",
    "    \n",
    "    Returns\n",
    "    --------------\n",
    "    figure_object: plt.figure\n",
    "\n",
    "    Function Flow\n",
    "    --------------\n",
    "    \n",
    "    Notes\n",
    "    --------------\n",
    "    \"\"\"\n",
    "    plt.rcParams[\"mathtext.fontset\"] = \"cm\"\n",
    "\n",
    "    _FIGURE_X_AXIS_WIDTH_IN_INCHES = 2.\n",
    "    _FIGURE_Y_AXIS_HEIGHT_IN_INCHES = 2.\n",
    "\n",
    "    _FIGURE_DOTS_PIXELS_PER_INCH = 100.0\n",
    "\n",
    "    unique_values_of_t = get_distinct_numbers(fixed_kinematic_t_momentum)\n",
    "    number_of_unique_t_values = len(unique_values_of_t)\n",
    "    print(f\"> Found {number_of_unique_t_values} t values. Now enlisting {number_of_unique_t_values} subplots...\")\n",
    "\n",
    "    FIGURE_DIMENSION = (number_of_unique_t_values * _FIGURE_X_AXIS_WIDTH_IN_INCHES, _FIGURE_Y_AXIS_HEIGHT_IN_INCHES)\n",
    "\n",
    "    # (1): Initialize the Figure:\n",
    "    figure_object = plt.figure(\n",
    "        figsize = FIGURE_DIMENSION,\n",
    "        dpi = _FIGURE_DOTS_PIXELS_PER_INCH,\n",
    "        facecolor = \"#e8e8e8\"\n",
    "    )\n",
    "\n",
    "    # (2): Add an Axis to the Main Figure:\n",
    "    axes_objects = []\n",
    "\n",
    "    for t_value_index in range(number_of_unique_t_values):\n",
    "        AXES_ONE_LEFT = t_value_index * _FIGURE_X_AXIS_WIDTH_IN_INCHES\n",
    "        AXES_ONE_BOTTOM = 0.\n",
    "        AXES_ONE_WIDTH = 1.0 * _FIGURE_X_AXIS_WIDTH_IN_INCHES\n",
    "        AXES_ONE_HEIGHT = 1.0 * _FIGURE_Y_AXIS_HEIGHT_IN_INCHES\n",
    "        axes_object = figure_object.add_axes(\n",
    "            (AXES_ONE_LEFT, AXES_ONE_BOTTOM, AXES_ONE_WIDTH, AXES_ONE_HEIGHT)\n",
    "            )\n",
    "        axes_objects.append(axes_object)\n",
    "\n",
    "        # (3): Configure the Axes Objects:\n",
    "        axes_object.set_xlabel('X Label', fontfamily='serif')\n",
    "        axes_object.set_ylabel('Y Label', fontfamily='serif')\n",
    "        \n",
    "        # Set x axis ticks\n",
    "        axes_object.tick_params(axis = 'x', direction = 'in', which = 'both', top = True)\n",
    "        axes_object.tick_params(axis = 'x', which = 'major', length = 5, width = 0.5)\n",
    "        axes_object.tick_params(axis = 'x', which = 'minor', length = 2.5, width = 0.5)\n",
    "        axes_object.minorticks_on()\n",
    "\n",
    "        # Set y axis ticks\n",
    "        axes_object.tick_params(axis = 'y', direction='in', which = 'both', right = True)\n",
    "        axes_object.tick_params(axis = 'y', which = 'major', length = 5, width = 0.5)\n",
    "        axes_object.tick_params(axis = 'y', which = 'minor', length = 2.5, width = 0.5)\n",
    "        axes_object.minorticks_on()\n",
    "        \n",
    "        # (4): Plot the data:\n",
    "        axes_object.errorbar(\n",
    "            x = phi_azimuth_column,\n",
    "            y = cross_section_column,\n",
    "            yerr = cross_section_errors_column,\n",
    "            color = 'black',\n",
    "            linestyle = '', \n",
    "            marker = 'o',\n",
    "            markersize = 1.0,\n",
    "            ecolor = 'black',\n",
    "            elinewidth = 0.5,\n",
    "            capsize = 1)\n",
    "    \n",
    "        # (5): Annotate the figure:\n",
    "\n",
    "        # (5.1): Prepare the annotation text:\n",
    "        annotation_Q_squared = r\"$Q^{{2}} = {} \\quad \\text{{GeV}}^{{2}}$\".format(fixed_kinematic_Q_squared)\n",
    "        annotation_x_Bjorken = r\"$x_{{B}} = {} $\".format(fixed_kinematic_x_Bjorken)\n",
    "        annotation_t = r\"$t = {} \\quad \\text{{GeV}} $\".format(unique_values_of_t[t_value_index])\n",
    "\n",
    "        # (5.2): Figure out the positions of the annotations by getting the max and min of both axes:\n",
    "        maximum_cross_section_value = np.max(cross_section_column)\n",
    "        minimum_cross_section_value = np.min(cross_section_column)\n",
    "        middle_cross_section_value = (maximum_cross_section_value + minimum_cross_section_value) / 2\n",
    "        maximum_phi_value = np.max(phi_azimuth_column)\n",
    "        minimum_phi_value = np.min(phi_azimuth_column)\n",
    "        middle_phi_value = (maximum_phi_value + minimum_phi_value) / 2\n",
    "\n",
    "        # (5.3): Assign the positions of the annotations:\n",
    "        increment = middle_cross_section_value / 10\n",
    "        xy_position_of_Q_squared_annotation = (middle_phi_value, middle_cross_section_value)\n",
    "        xy_position_of_x_Bjorken_annotation = (middle_phi_value, middle_cross_section_value - increment)\n",
    "        xy_position_of_t_momentum_annotation = (middle_phi_value, middle_cross_section_value - 2 * increment)\n",
    "\n",
    "        plt.xlabel(r\"$\\phi [\\text{deg}]$\", fontsize = 19)\n",
    "        plt.ylabel(r\"$d^{4} \\sigma [\\text{nb}/\\text{GeV}^{{4}}]$\", fontsize = 19)\n",
    "        plt.annotate(\n",
    "            annotation_Q_squared,\n",
    "            xy_position_of_Q_squared_annotation,\n",
    "            fontsize = 15\n",
    "        )\n",
    "        plt.annotate(\n",
    "            annotation_x_Bjorken,\n",
    "            xy_position_of_x_Bjorken_annotation,\n",
    "            fontsize = 15\n",
    "        )\n",
    "        plt.annotate(\n",
    "            annotation_t,\n",
    "            xy_position_of_t_momentum_annotation,\n",
    "            fontsize = 15\n",
    "        )\n",
    "        \n",
    "    return figure_object"
   ]
  },
  {
   "cell_type": "markdown",
   "metadata": {},
   "source": [
    "Now, we just try it out. It should be decent. First, we'll try it with all the $\\phi \\pm \\sigma_{\\phi}$:"
   ]
  },
  {
   "cell_type": "code",
   "execution_count": 59,
   "metadata": {},
   "outputs": [
    {
     "name": "stdout",
     "output_type": "stream",
     "text": [
      "> Found 85 t values. Now enlisting 85 subplots...\n"
     ]
    },
    {
     "ename": "KeyboardInterrupt",
     "evalue": "",
     "output_type": "error",
     "traceback": [
      "\u001b[1;31m---------------------------------------------------------------------------\u001b[0m",
      "\u001b[1;31mKeyboardInterrupt\u001b[0m                         Traceback (most recent call last)",
      "Cell \u001b[1;32mIn[59], line 1\u001b[0m\n\u001b[1;32m----> 1\u001b[0m construct_cross_section_versus_phi(\n\u001b[0;32m      2\u001b[0m     jlab_pandas_df[\u001b[38;5;124m\"\u001b[39m\u001b[38;5;124mQQ\u001b[39m\u001b[38;5;124m\"\u001b[39m][\u001b[38;5;241m0\u001b[39m],\n\u001b[0;32m      3\u001b[0m     jlab_pandas_df[\u001b[38;5;124m\"\u001b[39m\u001b[38;5;124mx_b\u001b[39m\u001b[38;5;124m\"\u001b[39m][\u001b[38;5;241m0\u001b[39m],\n\u001b[0;32m      4\u001b[0m     jlab_pandas_df[\u001b[38;5;124m\"\u001b[39m\u001b[38;5;124mt\u001b[39m\u001b[38;5;124m\"\u001b[39m],\n\u001b[0;32m      5\u001b[0m     jlab_pandas_df[\u001b[38;5;124m\"\u001b[39m\u001b[38;5;124mF\u001b[39m\u001b[38;5;124m\"\u001b[39m],\n\u001b[0;32m      6\u001b[0m     jlab_pandas_df[\u001b[38;5;124m\"\u001b[39m\u001b[38;5;124msigmaF\u001b[39m\u001b[38;5;124m\"\u001b[39m],\n\u001b[0;32m      7\u001b[0m     jlab_pandas_df[\u001b[38;5;124m\"\u001b[39m\u001b[38;5;124mphi_x\u001b[39m\u001b[38;5;124m\"\u001b[39m]\n\u001b[0;32m      8\u001b[0m )\n",
      "File \u001b[1;32m~\\AppData\\Roaming\\Python\\Python310\\site-packages\\IPython\\core\\displayhook.py:262\u001b[0m, in \u001b[0;36mDisplayHook.__call__\u001b[1;34m(self, result)\u001b[0m\n\u001b[0;32m    260\u001b[0m \u001b[38;5;28mself\u001b[39m\u001b[38;5;241m.\u001b[39mstart_displayhook()\n\u001b[0;32m    261\u001b[0m \u001b[38;5;28mself\u001b[39m\u001b[38;5;241m.\u001b[39mwrite_output_prompt()\n\u001b[1;32m--> 262\u001b[0m format_dict, md_dict \u001b[38;5;241m=\u001b[39m \u001b[38;5;28;43mself\u001b[39;49m\u001b[38;5;241;43m.\u001b[39;49m\u001b[43mcompute_format_data\u001b[49m\u001b[43m(\u001b[49m\u001b[43mresult\u001b[49m\u001b[43m)\u001b[49m\n\u001b[0;32m    263\u001b[0m \u001b[38;5;28mself\u001b[39m\u001b[38;5;241m.\u001b[39mupdate_user_ns(result)\n\u001b[0;32m    264\u001b[0m \u001b[38;5;28mself\u001b[39m\u001b[38;5;241m.\u001b[39mfill_exec_result(result)\n",
      "File \u001b[1;32m~\\AppData\\Roaming\\Python\\Python310\\site-packages\\IPython\\core\\displayhook.py:151\u001b[0m, in \u001b[0;36mDisplayHook.compute_format_data\u001b[1;34m(self, result)\u001b[0m\n\u001b[0;32m    121\u001b[0m \u001b[38;5;28;01mdef\u001b[39;00m \u001b[38;5;21mcompute_format_data\u001b[39m(\u001b[38;5;28mself\u001b[39m, result):\n\u001b[0;32m    122\u001b[0m \u001b[38;5;250m    \u001b[39m\u001b[38;5;124;03m\"\"\"Compute format data of the object to be displayed.\u001b[39;00m\n\u001b[0;32m    123\u001b[0m \n\u001b[0;32m    124\u001b[0m \u001b[38;5;124;03m    The format data is a generalization of the :func:`repr` of an object.\u001b[39;00m\n\u001b[1;32m   (...)\u001b[0m\n\u001b[0;32m    149\u001b[0m \n\u001b[0;32m    150\u001b[0m \u001b[38;5;124;03m    \"\"\"\u001b[39;00m\n\u001b[1;32m--> 151\u001b[0m     \u001b[38;5;28;01mreturn\u001b[39;00m \u001b[38;5;28;43mself\u001b[39;49m\u001b[38;5;241;43m.\u001b[39;49m\u001b[43mshell\u001b[49m\u001b[38;5;241;43m.\u001b[39;49m\u001b[43mdisplay_formatter\u001b[49m\u001b[38;5;241;43m.\u001b[39;49m\u001b[43mformat\u001b[49m\u001b[43m(\u001b[49m\u001b[43mresult\u001b[49m\u001b[43m)\u001b[49m\n",
      "File \u001b[1;32m~\\AppData\\Roaming\\Python\\Python310\\site-packages\\IPython\\core\\formatters.py:179\u001b[0m, in \u001b[0;36mDisplayFormatter.format\u001b[1;34m(self, obj, include, exclude)\u001b[0m\n\u001b[0;32m    177\u001b[0m md \u001b[38;5;241m=\u001b[39m \u001b[38;5;28;01mNone\u001b[39;00m\n\u001b[0;32m    178\u001b[0m \u001b[38;5;28;01mtry\u001b[39;00m:\n\u001b[1;32m--> 179\u001b[0m     data \u001b[38;5;241m=\u001b[39m \u001b[43mformatter\u001b[49m\u001b[43m(\u001b[49m\u001b[43mobj\u001b[49m\u001b[43m)\u001b[49m\n\u001b[0;32m    180\u001b[0m \u001b[38;5;28;01mexcept\u001b[39;00m:\n\u001b[0;32m    181\u001b[0m     \u001b[38;5;66;03m# FIXME: log the exception\u001b[39;00m\n\u001b[0;32m    182\u001b[0m     \u001b[38;5;28;01mraise\u001b[39;00m\n",
      "File \u001b[1;32m~\\AppData\\Roaming\\Python\\Python310\\site-packages\\decorator.py:232\u001b[0m, in \u001b[0;36mdecorate.<locals>.fun\u001b[1;34m(*args, **kw)\u001b[0m\n\u001b[0;32m    230\u001b[0m \u001b[38;5;28;01mif\u001b[39;00m \u001b[38;5;129;01mnot\u001b[39;00m kwsyntax:\n\u001b[0;32m    231\u001b[0m     args, kw \u001b[38;5;241m=\u001b[39m fix(args, kw, sig)\n\u001b[1;32m--> 232\u001b[0m \u001b[38;5;28;01mreturn\u001b[39;00m caller(func, \u001b[38;5;241m*\u001b[39m(extras \u001b[38;5;241m+\u001b[39m args), \u001b[38;5;241m*\u001b[39m\u001b[38;5;241m*\u001b[39mkw)\n",
      "File \u001b[1;32m~\\AppData\\Roaming\\Python\\Python310\\site-packages\\IPython\\core\\formatters.py:223\u001b[0m, in \u001b[0;36mcatch_format_error\u001b[1;34m(method, self, *args, **kwargs)\u001b[0m\n\u001b[0;32m    221\u001b[0m \u001b[38;5;250m\u001b[39m\u001b[38;5;124;03m\"\"\"show traceback on failed format call\"\"\"\u001b[39;00m\n\u001b[0;32m    222\u001b[0m \u001b[38;5;28;01mtry\u001b[39;00m:\n\u001b[1;32m--> 223\u001b[0m     r \u001b[38;5;241m=\u001b[39m method(\u001b[38;5;28mself\u001b[39m, \u001b[38;5;241m*\u001b[39margs, \u001b[38;5;241m*\u001b[39m\u001b[38;5;241m*\u001b[39mkwargs)\n\u001b[0;32m    224\u001b[0m \u001b[38;5;28;01mexcept\u001b[39;00m \u001b[38;5;167;01mNotImplementedError\u001b[39;00m:\n\u001b[0;32m    225\u001b[0m     \u001b[38;5;66;03m# don't warn on NotImplementedErrors\u001b[39;00m\n\u001b[0;32m    226\u001b[0m     \u001b[38;5;28;01mreturn\u001b[39;00m \u001b[38;5;28mself\u001b[39m\u001b[38;5;241m.\u001b[39m_check_return(\u001b[38;5;28;01mNone\u001b[39;00m, args[\u001b[38;5;241m0\u001b[39m])\n",
      "File \u001b[1;32m~\\AppData\\Roaming\\Python\\Python310\\site-packages\\IPython\\core\\formatters.py:340\u001b[0m, in \u001b[0;36mBaseFormatter.__call__\u001b[1;34m(self, obj)\u001b[0m\n\u001b[0;32m    338\u001b[0m     \u001b[38;5;28;01mpass\u001b[39;00m\n\u001b[0;32m    339\u001b[0m \u001b[38;5;28;01melse\u001b[39;00m:\n\u001b[1;32m--> 340\u001b[0m     \u001b[38;5;28;01mreturn\u001b[39;00m \u001b[43mprinter\u001b[49m\u001b[43m(\u001b[49m\u001b[43mobj\u001b[49m\u001b[43m)\u001b[49m\n\u001b[0;32m    341\u001b[0m \u001b[38;5;66;03m# Finally look for special method names\u001b[39;00m\n\u001b[0;32m    342\u001b[0m method \u001b[38;5;241m=\u001b[39m get_real_method(obj, \u001b[38;5;28mself\u001b[39m\u001b[38;5;241m.\u001b[39mprint_method)\n",
      "File \u001b[1;32m~\\AppData\\Roaming\\Python\\Python310\\site-packages\\IPython\\core\\pylabtools.py:152\u001b[0m, in \u001b[0;36mprint_figure\u001b[1;34m(fig, fmt, bbox_inches, base64, **kwargs)\u001b[0m\n\u001b[0;32m    149\u001b[0m     \u001b[38;5;28;01mfrom\u001b[39;00m \u001b[38;5;21;01mmatplotlib\u001b[39;00m\u001b[38;5;21;01m.\u001b[39;00m\u001b[38;5;21;01mbackend_bases\u001b[39;00m \u001b[38;5;28;01mimport\u001b[39;00m FigureCanvasBase\n\u001b[0;32m    150\u001b[0m     FigureCanvasBase(fig)\n\u001b[1;32m--> 152\u001b[0m fig\u001b[38;5;241m.\u001b[39mcanvas\u001b[38;5;241m.\u001b[39mprint_figure(bytes_io, \u001b[38;5;241m*\u001b[39m\u001b[38;5;241m*\u001b[39mkw)\n\u001b[0;32m    153\u001b[0m data \u001b[38;5;241m=\u001b[39m bytes_io\u001b[38;5;241m.\u001b[39mgetvalue()\n\u001b[0;32m    154\u001b[0m \u001b[38;5;28;01mif\u001b[39;00m fmt \u001b[38;5;241m==\u001b[39m \u001b[38;5;124m'\u001b[39m\u001b[38;5;124msvg\u001b[39m\u001b[38;5;124m'\u001b[39m:\n",
      "File \u001b[1;32mc:\\Python310\\lib\\site-packages\\matplotlib\\backend_bases.py:2158\u001b[0m, in \u001b[0;36mFigureCanvasBase.print_figure\u001b[1;34m(self, filename, dpi, facecolor, edgecolor, orientation, format, bbox_inches, pad_inches, bbox_extra_artists, backend, **kwargs)\u001b[0m\n\u001b[0;32m   2155\u001b[0m     \u001b[38;5;66;03m# we do this instead of `self.figure.draw_without_rendering`\u001b[39;00m\n\u001b[0;32m   2156\u001b[0m     \u001b[38;5;66;03m# so that we can inject the orientation\u001b[39;00m\n\u001b[0;32m   2157\u001b[0m     \u001b[38;5;28;01mwith\u001b[39;00m \u001b[38;5;28mgetattr\u001b[39m(renderer, \u001b[38;5;124m\"\u001b[39m\u001b[38;5;124m_draw_disabled\u001b[39m\u001b[38;5;124m\"\u001b[39m, nullcontext)():\n\u001b[1;32m-> 2158\u001b[0m         \u001b[38;5;28;43mself\u001b[39;49m\u001b[38;5;241;43m.\u001b[39;49m\u001b[43mfigure\u001b[49m\u001b[38;5;241;43m.\u001b[39;49m\u001b[43mdraw\u001b[49m\u001b[43m(\u001b[49m\u001b[43mrenderer\u001b[49m\u001b[43m)\u001b[49m\n\u001b[0;32m   2159\u001b[0m \u001b[38;5;28;01mif\u001b[39;00m bbox_inches:\n\u001b[0;32m   2160\u001b[0m     \u001b[38;5;28;01mif\u001b[39;00m bbox_inches \u001b[38;5;241m==\u001b[39m \u001b[38;5;124m\"\u001b[39m\u001b[38;5;124mtight\u001b[39m\u001b[38;5;124m\"\u001b[39m:\n",
      "File \u001b[1;32mc:\\Python310\\lib\\site-packages\\matplotlib\\artist.py:95\u001b[0m, in \u001b[0;36m_finalize_rasterization.<locals>.draw_wrapper\u001b[1;34m(artist, renderer, *args, **kwargs)\u001b[0m\n\u001b[0;32m     93\u001b[0m \u001b[38;5;129m@wraps\u001b[39m(draw)\n\u001b[0;32m     94\u001b[0m \u001b[38;5;28;01mdef\u001b[39;00m \u001b[38;5;21mdraw_wrapper\u001b[39m(artist, renderer, \u001b[38;5;241m*\u001b[39margs, \u001b[38;5;241m*\u001b[39m\u001b[38;5;241m*\u001b[39mkwargs):\n\u001b[1;32m---> 95\u001b[0m     result \u001b[38;5;241m=\u001b[39m draw(artist, renderer, \u001b[38;5;241m*\u001b[39margs, \u001b[38;5;241m*\u001b[39m\u001b[38;5;241m*\u001b[39mkwargs)\n\u001b[0;32m     96\u001b[0m     \u001b[38;5;28;01mif\u001b[39;00m renderer\u001b[38;5;241m.\u001b[39m_rasterizing:\n\u001b[0;32m     97\u001b[0m         renderer\u001b[38;5;241m.\u001b[39mstop_rasterizing()\n",
      "File \u001b[1;32mc:\\Python310\\lib\\site-packages\\matplotlib\\artist.py:72\u001b[0m, in \u001b[0;36mallow_rasterization.<locals>.draw_wrapper\u001b[1;34m(artist, renderer)\u001b[0m\n\u001b[0;32m     69\u001b[0m     \u001b[38;5;28;01mif\u001b[39;00m artist\u001b[38;5;241m.\u001b[39mget_agg_filter() \u001b[38;5;129;01mis\u001b[39;00m \u001b[38;5;129;01mnot\u001b[39;00m \u001b[38;5;28;01mNone\u001b[39;00m:\n\u001b[0;32m     70\u001b[0m         renderer\u001b[38;5;241m.\u001b[39mstart_filter()\n\u001b[1;32m---> 72\u001b[0m     \u001b[38;5;28;01mreturn\u001b[39;00m \u001b[43mdraw\u001b[49m\u001b[43m(\u001b[49m\u001b[43martist\u001b[49m\u001b[43m,\u001b[49m\u001b[43m \u001b[49m\u001b[43mrenderer\u001b[49m\u001b[43m)\u001b[49m\n\u001b[0;32m     73\u001b[0m \u001b[38;5;28;01mfinally\u001b[39;00m:\n\u001b[0;32m     74\u001b[0m     \u001b[38;5;28;01mif\u001b[39;00m artist\u001b[38;5;241m.\u001b[39mget_agg_filter() \u001b[38;5;129;01mis\u001b[39;00m \u001b[38;5;129;01mnot\u001b[39;00m \u001b[38;5;28;01mNone\u001b[39;00m:\n",
      "File \u001b[1;32mc:\\Python310\\lib\\site-packages\\matplotlib\\figure.py:3154\u001b[0m, in \u001b[0;36mFigure.draw\u001b[1;34m(self, renderer)\u001b[0m\n\u001b[0;32m   3151\u001b[0m         \u001b[38;5;66;03m# ValueError can occur when resizing a window.\u001b[39;00m\n\u001b[0;32m   3153\u001b[0m \u001b[38;5;28mself\u001b[39m\u001b[38;5;241m.\u001b[39mpatch\u001b[38;5;241m.\u001b[39mdraw(renderer)\n\u001b[1;32m-> 3154\u001b[0m \u001b[43mmimage\u001b[49m\u001b[38;5;241;43m.\u001b[39;49m\u001b[43m_draw_list_compositing_images\u001b[49m\u001b[43m(\u001b[49m\n\u001b[0;32m   3155\u001b[0m \u001b[43m    \u001b[49m\u001b[43mrenderer\u001b[49m\u001b[43m,\u001b[49m\u001b[43m \u001b[49m\u001b[38;5;28;43mself\u001b[39;49m\u001b[43m,\u001b[49m\u001b[43m \u001b[49m\u001b[43martists\u001b[49m\u001b[43m,\u001b[49m\u001b[43m \u001b[49m\u001b[38;5;28;43mself\u001b[39;49m\u001b[38;5;241;43m.\u001b[39;49m\u001b[43msuppressComposite\u001b[49m\u001b[43m)\u001b[49m\n\u001b[0;32m   3157\u001b[0m \u001b[38;5;28;01mfor\u001b[39;00m sfig \u001b[38;5;129;01min\u001b[39;00m \u001b[38;5;28mself\u001b[39m\u001b[38;5;241m.\u001b[39msubfigs:\n\u001b[0;32m   3158\u001b[0m     sfig\u001b[38;5;241m.\u001b[39mdraw(renderer)\n",
      "File \u001b[1;32mc:\\Python310\\lib\\site-packages\\matplotlib\\image.py:132\u001b[0m, in \u001b[0;36m_draw_list_compositing_images\u001b[1;34m(renderer, parent, artists, suppress_composite)\u001b[0m\n\u001b[0;32m    130\u001b[0m \u001b[38;5;28;01mif\u001b[39;00m not_composite \u001b[38;5;129;01mor\u001b[39;00m \u001b[38;5;129;01mnot\u001b[39;00m has_images:\n\u001b[0;32m    131\u001b[0m     \u001b[38;5;28;01mfor\u001b[39;00m a \u001b[38;5;129;01min\u001b[39;00m artists:\n\u001b[1;32m--> 132\u001b[0m         \u001b[43ma\u001b[49m\u001b[38;5;241;43m.\u001b[39;49m\u001b[43mdraw\u001b[49m\u001b[43m(\u001b[49m\u001b[43mrenderer\u001b[49m\u001b[43m)\u001b[49m\n\u001b[0;32m    133\u001b[0m \u001b[38;5;28;01melse\u001b[39;00m:\n\u001b[0;32m    134\u001b[0m     \u001b[38;5;66;03m# Composite any adjacent images together\u001b[39;00m\n\u001b[0;32m    135\u001b[0m     image_group \u001b[38;5;241m=\u001b[39m []\n",
      "File \u001b[1;32mc:\\Python310\\lib\\site-packages\\matplotlib\\artist.py:72\u001b[0m, in \u001b[0;36mallow_rasterization.<locals>.draw_wrapper\u001b[1;34m(artist, renderer)\u001b[0m\n\u001b[0;32m     69\u001b[0m     \u001b[38;5;28;01mif\u001b[39;00m artist\u001b[38;5;241m.\u001b[39mget_agg_filter() \u001b[38;5;129;01mis\u001b[39;00m \u001b[38;5;129;01mnot\u001b[39;00m \u001b[38;5;28;01mNone\u001b[39;00m:\n\u001b[0;32m     70\u001b[0m         renderer\u001b[38;5;241m.\u001b[39mstart_filter()\n\u001b[1;32m---> 72\u001b[0m     \u001b[38;5;28;01mreturn\u001b[39;00m \u001b[43mdraw\u001b[49m\u001b[43m(\u001b[49m\u001b[43martist\u001b[49m\u001b[43m,\u001b[49m\u001b[43m \u001b[49m\u001b[43mrenderer\u001b[49m\u001b[43m)\u001b[49m\n\u001b[0;32m     73\u001b[0m \u001b[38;5;28;01mfinally\u001b[39;00m:\n\u001b[0;32m     74\u001b[0m     \u001b[38;5;28;01mif\u001b[39;00m artist\u001b[38;5;241m.\u001b[39mget_agg_filter() \u001b[38;5;129;01mis\u001b[39;00m \u001b[38;5;129;01mnot\u001b[39;00m \u001b[38;5;28;01mNone\u001b[39;00m:\n",
      "File \u001b[1;32mc:\\Python310\\lib\\site-packages\\matplotlib\\axes\\_base.py:3070\u001b[0m, in \u001b[0;36m_AxesBase.draw\u001b[1;34m(self, renderer)\u001b[0m\n\u001b[0;32m   3067\u001b[0m \u001b[38;5;28;01mif\u001b[39;00m artists_rasterized:\n\u001b[0;32m   3068\u001b[0m     _draw_rasterized(\u001b[38;5;28mself\u001b[39m\u001b[38;5;241m.\u001b[39mfigure, artists_rasterized, renderer)\n\u001b[1;32m-> 3070\u001b[0m \u001b[43mmimage\u001b[49m\u001b[38;5;241;43m.\u001b[39;49m\u001b[43m_draw_list_compositing_images\u001b[49m\u001b[43m(\u001b[49m\n\u001b[0;32m   3071\u001b[0m \u001b[43m    \u001b[49m\u001b[43mrenderer\u001b[49m\u001b[43m,\u001b[49m\u001b[43m \u001b[49m\u001b[38;5;28;43mself\u001b[39;49m\u001b[43m,\u001b[49m\u001b[43m \u001b[49m\u001b[43martists\u001b[49m\u001b[43m,\u001b[49m\u001b[43m \u001b[49m\u001b[38;5;28;43mself\u001b[39;49m\u001b[38;5;241;43m.\u001b[39;49m\u001b[43mfigure\u001b[49m\u001b[38;5;241;43m.\u001b[39;49m\u001b[43msuppressComposite\u001b[49m\u001b[43m)\u001b[49m\n\u001b[0;32m   3073\u001b[0m renderer\u001b[38;5;241m.\u001b[39mclose_group(\u001b[38;5;124m'\u001b[39m\u001b[38;5;124maxes\u001b[39m\u001b[38;5;124m'\u001b[39m)\n\u001b[0;32m   3074\u001b[0m \u001b[38;5;28mself\u001b[39m\u001b[38;5;241m.\u001b[39mstale \u001b[38;5;241m=\u001b[39m \u001b[38;5;28;01mFalse\u001b[39;00m\n",
      "File \u001b[1;32mc:\\Python310\\lib\\site-packages\\matplotlib\\image.py:132\u001b[0m, in \u001b[0;36m_draw_list_compositing_images\u001b[1;34m(renderer, parent, artists, suppress_composite)\u001b[0m\n\u001b[0;32m    130\u001b[0m \u001b[38;5;28;01mif\u001b[39;00m not_composite \u001b[38;5;129;01mor\u001b[39;00m \u001b[38;5;129;01mnot\u001b[39;00m has_images:\n\u001b[0;32m    131\u001b[0m     \u001b[38;5;28;01mfor\u001b[39;00m a \u001b[38;5;129;01min\u001b[39;00m artists:\n\u001b[1;32m--> 132\u001b[0m         \u001b[43ma\u001b[49m\u001b[38;5;241;43m.\u001b[39;49m\u001b[43mdraw\u001b[49m\u001b[43m(\u001b[49m\u001b[43mrenderer\u001b[49m\u001b[43m)\u001b[49m\n\u001b[0;32m    133\u001b[0m \u001b[38;5;28;01melse\u001b[39;00m:\n\u001b[0;32m    134\u001b[0m     \u001b[38;5;66;03m# Composite any adjacent images together\u001b[39;00m\n\u001b[0;32m    135\u001b[0m     image_group \u001b[38;5;241m=\u001b[39m []\n",
      "File \u001b[1;32mc:\\Python310\\lib\\site-packages\\matplotlib\\artist.py:72\u001b[0m, in \u001b[0;36mallow_rasterization.<locals>.draw_wrapper\u001b[1;34m(artist, renderer)\u001b[0m\n\u001b[0;32m     69\u001b[0m     \u001b[38;5;28;01mif\u001b[39;00m artist\u001b[38;5;241m.\u001b[39mget_agg_filter() \u001b[38;5;129;01mis\u001b[39;00m \u001b[38;5;129;01mnot\u001b[39;00m \u001b[38;5;28;01mNone\u001b[39;00m:\n\u001b[0;32m     70\u001b[0m         renderer\u001b[38;5;241m.\u001b[39mstart_filter()\n\u001b[1;32m---> 72\u001b[0m     \u001b[38;5;28;01mreturn\u001b[39;00m \u001b[43mdraw\u001b[49m\u001b[43m(\u001b[49m\u001b[43martist\u001b[49m\u001b[43m,\u001b[49m\u001b[43m \u001b[49m\u001b[43mrenderer\u001b[49m\u001b[43m)\u001b[49m\n\u001b[0;32m     73\u001b[0m \u001b[38;5;28;01mfinally\u001b[39;00m:\n\u001b[0;32m     74\u001b[0m     \u001b[38;5;28;01mif\u001b[39;00m artist\u001b[38;5;241m.\u001b[39mget_agg_filter() \u001b[38;5;129;01mis\u001b[39;00m \u001b[38;5;129;01mnot\u001b[39;00m \u001b[38;5;28;01mNone\u001b[39;00m:\n",
      "File \u001b[1;32mc:\\Python310\\lib\\site-packages\\matplotlib\\axis.py:1394\u001b[0m, in \u001b[0;36mAxis.draw\u001b[1;34m(self, renderer, *args, **kwargs)\u001b[0m\n\u001b[0;32m   1391\u001b[0m     tick\u001b[38;5;241m.\u001b[39mdraw(renderer)\n\u001b[0;32m   1393\u001b[0m \u001b[38;5;66;03m# Shift label away from axes to avoid overlapping ticklabels.\u001b[39;00m\n\u001b[1;32m-> 1394\u001b[0m \u001b[38;5;28;43mself\u001b[39;49m\u001b[38;5;241;43m.\u001b[39;49m\u001b[43m_update_label_position\u001b[49m\u001b[43m(\u001b[49m\u001b[43mrenderer\u001b[49m\u001b[43m)\u001b[49m\n\u001b[0;32m   1395\u001b[0m \u001b[38;5;28mself\u001b[39m\u001b[38;5;241m.\u001b[39mlabel\u001b[38;5;241m.\u001b[39mdraw(renderer)\n\u001b[0;32m   1397\u001b[0m \u001b[38;5;28mself\u001b[39m\u001b[38;5;241m.\u001b[39m_update_offset_text_position(tlb1, tlb2)\n",
      "File \u001b[1;32mc:\\Python310\\lib\\site-packages\\matplotlib\\axis.py:2609\u001b[0m, in \u001b[0;36mYAxis._update_label_position\u001b[1;34m(self, renderer)\u001b[0m\n\u001b[0;32m   2605\u001b[0m     \u001b[38;5;28;01mreturn\u001b[39;00m\n\u001b[0;32m   2607\u001b[0m \u001b[38;5;66;03m# get bounding boxes for this axis and any siblings\u001b[39;00m\n\u001b[0;32m   2608\u001b[0m \u001b[38;5;66;03m# that have been set by `fig.align_ylabels()`\u001b[39;00m\n\u001b[1;32m-> 2609\u001b[0m bboxes, bboxes2 \u001b[38;5;241m=\u001b[39m \u001b[38;5;28;43mself\u001b[39;49m\u001b[38;5;241;43m.\u001b[39;49m\u001b[43m_get_tick_boxes_siblings\u001b[49m\u001b[43m(\u001b[49m\u001b[43mrenderer\u001b[49m\u001b[38;5;241;43m=\u001b[39;49m\u001b[43mrenderer\u001b[49m\u001b[43m)\u001b[49m\n\u001b[0;32m   2610\u001b[0m x, y \u001b[38;5;241m=\u001b[39m \u001b[38;5;28mself\u001b[39m\u001b[38;5;241m.\u001b[39mlabel\u001b[38;5;241m.\u001b[39mget_position()\n\u001b[0;32m   2611\u001b[0m \u001b[38;5;28;01mif\u001b[39;00m \u001b[38;5;28mself\u001b[39m\u001b[38;5;241m.\u001b[39mlabel_position \u001b[38;5;241m==\u001b[39m \u001b[38;5;124m'\u001b[39m\u001b[38;5;124mleft\u001b[39m\u001b[38;5;124m'\u001b[39m:\n",
      "File \u001b[1;32mc:\\Python310\\lib\\site-packages\\matplotlib\\axis.py:2160\u001b[0m, in \u001b[0;36mAxis._get_tick_boxes_siblings\u001b[1;34m(self, renderer)\u001b[0m\n\u001b[0;32m   2158\u001b[0m \u001b[38;5;28;01mfor\u001b[39;00m ax \u001b[38;5;129;01min\u001b[39;00m grouper\u001b[38;5;241m.\u001b[39mget_siblings(\u001b[38;5;28mself\u001b[39m\u001b[38;5;241m.\u001b[39maxes):\n\u001b[0;32m   2159\u001b[0m     axis \u001b[38;5;241m=\u001b[39m ax\u001b[38;5;241m.\u001b[39m_axis_map[name]\n\u001b[1;32m-> 2160\u001b[0m     ticks_to_draw \u001b[38;5;241m=\u001b[39m \u001b[43maxis\u001b[49m\u001b[38;5;241;43m.\u001b[39;49m\u001b[43m_update_ticks\u001b[49m\u001b[43m(\u001b[49m\u001b[43m)\u001b[49m\n\u001b[0;32m   2161\u001b[0m     tlb, tlb2 \u001b[38;5;241m=\u001b[39m axis\u001b[38;5;241m.\u001b[39m_get_ticklabel_bboxes(ticks_to_draw, renderer)\n\u001b[0;32m   2162\u001b[0m     bboxes\u001b[38;5;241m.\u001b[39mextend(tlb)\n",
      "File \u001b[1;32mc:\\Python310\\lib\\site-packages\\matplotlib\\axis.py:1275\u001b[0m, in \u001b[0;36mAxis._update_ticks\u001b[1;34m(self)\u001b[0m\n\u001b[0;32m   1270\u001b[0m \u001b[38;5;28;01mdef\u001b[39;00m \u001b[38;5;21m_update_ticks\u001b[39m(\u001b[38;5;28mself\u001b[39m):\n\u001b[0;32m   1271\u001b[0m \u001b[38;5;250m    \u001b[39m\u001b[38;5;124;03m\"\"\"\u001b[39;00m\n\u001b[0;32m   1272\u001b[0m \u001b[38;5;124;03m    Update ticks (position and labels) using the current data interval of\u001b[39;00m\n\u001b[0;32m   1273\u001b[0m \u001b[38;5;124;03m    the axes.  Return the list of ticks that will be drawn.\u001b[39;00m\n\u001b[0;32m   1274\u001b[0m \u001b[38;5;124;03m    \"\"\"\u001b[39;00m\n\u001b[1;32m-> 1275\u001b[0m     major_locs \u001b[38;5;241m=\u001b[39m \u001b[38;5;28;43mself\u001b[39;49m\u001b[38;5;241;43m.\u001b[39;49m\u001b[43mget_majorticklocs\u001b[49m\u001b[43m(\u001b[49m\u001b[43m)\u001b[49m\n\u001b[0;32m   1276\u001b[0m     major_labels \u001b[38;5;241m=\u001b[39m \u001b[38;5;28mself\u001b[39m\u001b[38;5;241m.\u001b[39mmajor\u001b[38;5;241m.\u001b[39mformatter\u001b[38;5;241m.\u001b[39mformat_ticks(major_locs)\n\u001b[0;32m   1277\u001b[0m     major_ticks \u001b[38;5;241m=\u001b[39m \u001b[38;5;28mself\u001b[39m\u001b[38;5;241m.\u001b[39mget_major_ticks(\u001b[38;5;28mlen\u001b[39m(major_locs))\n",
      "File \u001b[1;32mc:\\Python310\\lib\\site-packages\\matplotlib\\axis.py:1495\u001b[0m, in \u001b[0;36mAxis.get_majorticklocs\u001b[1;34m(self)\u001b[0m\n\u001b[0;32m   1493\u001b[0m \u001b[38;5;28;01mdef\u001b[39;00m \u001b[38;5;21mget_majorticklocs\u001b[39m(\u001b[38;5;28mself\u001b[39m):\n\u001b[0;32m   1494\u001b[0m \u001b[38;5;250m    \u001b[39m\u001b[38;5;124;03m\"\"\"Return this Axis' major tick locations in data coordinates.\"\"\"\u001b[39;00m\n\u001b[1;32m-> 1495\u001b[0m     \u001b[38;5;28;01mreturn\u001b[39;00m \u001b[38;5;28;43mself\u001b[39;49m\u001b[38;5;241;43m.\u001b[39;49m\u001b[43mmajor\u001b[49m\u001b[38;5;241;43m.\u001b[39;49m\u001b[43mlocator\u001b[49m\u001b[43m(\u001b[49m\u001b[43m)\u001b[49m\n",
      "File \u001b[1;32mc:\\Python310\\lib\\site-packages\\matplotlib\\ticker.py:2142\u001b[0m, in \u001b[0;36mMaxNLocator.__call__\u001b[1;34m(self)\u001b[0m\n\u001b[0;32m   2140\u001b[0m \u001b[38;5;28;01mdef\u001b[39;00m \u001b[38;5;21m__call__\u001b[39m(\u001b[38;5;28mself\u001b[39m):\n\u001b[0;32m   2141\u001b[0m     vmin, vmax \u001b[38;5;241m=\u001b[39m \u001b[38;5;28mself\u001b[39m\u001b[38;5;241m.\u001b[39maxis\u001b[38;5;241m.\u001b[39mget_view_interval()\n\u001b[1;32m-> 2142\u001b[0m     \u001b[38;5;28;01mreturn\u001b[39;00m \u001b[38;5;28;43mself\u001b[39;49m\u001b[38;5;241;43m.\u001b[39;49m\u001b[43mtick_values\u001b[49m\u001b[43m(\u001b[49m\u001b[43mvmin\u001b[49m\u001b[43m,\u001b[49m\u001b[43m \u001b[49m\u001b[43mvmax\u001b[49m\u001b[43m)\u001b[49m\n",
      "File \u001b[1;32mc:\\Python310\\lib\\site-packages\\matplotlib\\ticker.py:2150\u001b[0m, in \u001b[0;36mMaxNLocator.tick_values\u001b[1;34m(self, vmin, vmax)\u001b[0m\n\u001b[0;32m   2147\u001b[0m     vmin \u001b[38;5;241m=\u001b[39m \u001b[38;5;241m-\u001b[39mvmax\n\u001b[0;32m   2148\u001b[0m vmin, vmax \u001b[38;5;241m=\u001b[39m mtransforms\u001b[38;5;241m.\u001b[39mnonsingular(\n\u001b[0;32m   2149\u001b[0m     vmin, vmax, expander\u001b[38;5;241m=\u001b[39m\u001b[38;5;241m1e-13\u001b[39m, tiny\u001b[38;5;241m=\u001b[39m\u001b[38;5;241m1e-14\u001b[39m)\n\u001b[1;32m-> 2150\u001b[0m locs \u001b[38;5;241m=\u001b[39m \u001b[38;5;28;43mself\u001b[39;49m\u001b[38;5;241;43m.\u001b[39;49m\u001b[43m_raw_ticks\u001b[49m\u001b[43m(\u001b[49m\u001b[43mvmin\u001b[49m\u001b[43m,\u001b[49m\u001b[43m \u001b[49m\u001b[43mvmax\u001b[49m\u001b[43m)\u001b[49m\n\u001b[0;32m   2152\u001b[0m prune \u001b[38;5;241m=\u001b[39m \u001b[38;5;28mself\u001b[39m\u001b[38;5;241m.\u001b[39m_prune\n\u001b[0;32m   2153\u001b[0m \u001b[38;5;28;01mif\u001b[39;00m prune \u001b[38;5;241m==\u001b[39m \u001b[38;5;124m'\u001b[39m\u001b[38;5;124mlower\u001b[39m\u001b[38;5;124m'\u001b[39m:\n",
      "File \u001b[1;32mc:\\Python310\\lib\\site-packages\\matplotlib\\ticker.py:2088\u001b[0m, in \u001b[0;36mMaxNLocator._raw_ticks\u001b[1;34m(self, vmin, vmax)\u001b[0m\n\u001b[0;32m   2086\u001b[0m \u001b[38;5;28;01mif\u001b[39;00m \u001b[38;5;28mself\u001b[39m\u001b[38;5;241m.\u001b[39m_nbins \u001b[38;5;241m==\u001b[39m \u001b[38;5;124m'\u001b[39m\u001b[38;5;124mauto\u001b[39m\u001b[38;5;124m'\u001b[39m:\n\u001b[0;32m   2087\u001b[0m     \u001b[38;5;28;01mif\u001b[39;00m \u001b[38;5;28mself\u001b[39m\u001b[38;5;241m.\u001b[39maxis \u001b[38;5;129;01mis\u001b[39;00m \u001b[38;5;129;01mnot\u001b[39;00m \u001b[38;5;28;01mNone\u001b[39;00m:\n\u001b[1;32m-> 2088\u001b[0m         nbins \u001b[38;5;241m=\u001b[39m np\u001b[38;5;241m.\u001b[39mclip(\u001b[38;5;28;43mself\u001b[39;49m\u001b[38;5;241;43m.\u001b[39;49m\u001b[43maxis\u001b[49m\u001b[38;5;241;43m.\u001b[39;49m\u001b[43mget_tick_space\u001b[49m\u001b[43m(\u001b[49m\u001b[43m)\u001b[49m,\n\u001b[0;32m   2089\u001b[0m                         \u001b[38;5;28mmax\u001b[39m(\u001b[38;5;241m1\u001b[39m, \u001b[38;5;28mself\u001b[39m\u001b[38;5;241m.\u001b[39m_min_n_ticks \u001b[38;5;241m-\u001b[39m \u001b[38;5;241m1\u001b[39m), \u001b[38;5;241m9\u001b[39m)\n\u001b[0;32m   2090\u001b[0m     \u001b[38;5;28;01melse\u001b[39;00m:\n\u001b[0;32m   2091\u001b[0m         nbins \u001b[38;5;241m=\u001b[39m \u001b[38;5;241m9\u001b[39m\n",
      "File \u001b[1;32mc:\\Python310\\lib\\site-packages\\matplotlib\\axis.py:2758\u001b[0m, in \u001b[0;36mYAxis.get_tick_space\u001b[1;34m(self)\u001b[0m\n\u001b[0;32m   2757\u001b[0m \u001b[38;5;28;01mdef\u001b[39;00m \u001b[38;5;21mget_tick_space\u001b[39m(\u001b[38;5;28mself\u001b[39m):\n\u001b[1;32m-> 2758\u001b[0m     ends \u001b[38;5;241m=\u001b[39m \u001b[43mmtransforms\u001b[49m\u001b[38;5;241;43m.\u001b[39;49m\u001b[43mBbox\u001b[49m\u001b[38;5;241;43m.\u001b[39;49m\u001b[43munit\u001b[49m\u001b[43m(\u001b[49m\u001b[43m)\u001b[49m\u001b[38;5;241;43m.\u001b[39;49m\u001b[43mtransformed\u001b[49m\u001b[43m(\u001b[49m\n\u001b[0;32m   2759\u001b[0m \u001b[43m        \u001b[49m\u001b[38;5;28;43mself\u001b[39;49m\u001b[38;5;241;43m.\u001b[39;49m\u001b[43maxes\u001b[49m\u001b[38;5;241;43m.\u001b[39;49m\u001b[43mtransAxes\u001b[49m\u001b[43m \u001b[49m\u001b[38;5;241;43m-\u001b[39;49m\u001b[43m \u001b[49m\u001b[38;5;28;43mself\u001b[39;49m\u001b[38;5;241;43m.\u001b[39;49m\u001b[43mfigure\u001b[49m\u001b[38;5;241;43m.\u001b[39;49m\u001b[43mdpi_scale_trans\u001b[49m\u001b[43m)\u001b[49m\n\u001b[0;32m   2760\u001b[0m     length \u001b[38;5;241m=\u001b[39m ends\u001b[38;5;241m.\u001b[39mheight \u001b[38;5;241m*\u001b[39m \u001b[38;5;241m72\u001b[39m\n\u001b[0;32m   2761\u001b[0m     \u001b[38;5;66;03m# Having a spacing of at least 2 just looks good.\u001b[39;00m\n",
      "File \u001b[1;32mc:\\Python310\\lib\\site-packages\\matplotlib\\transforms.py:468\u001b[0m, in \u001b[0;36mBboxBase.transformed\u001b[1;34m(self, transform)\u001b[0m\n\u001b[0;32m    464\u001b[0m \u001b[38;5;250m\u001b[39m\u001b[38;5;124;03m\"\"\"\u001b[39;00m\n\u001b[0;32m    465\u001b[0m \u001b[38;5;124;03mConstruct a `Bbox` by statically transforming this one by *transform*.\u001b[39;00m\n\u001b[0;32m    466\u001b[0m \u001b[38;5;124;03m\"\"\"\u001b[39;00m\n\u001b[0;32m    467\u001b[0m pts \u001b[38;5;241m=\u001b[39m \u001b[38;5;28mself\u001b[39m\u001b[38;5;241m.\u001b[39mget_points()\n\u001b[1;32m--> 468\u001b[0m ll, ul, lr \u001b[38;5;241m=\u001b[39m \u001b[43mtransform\u001b[49m\u001b[38;5;241;43m.\u001b[39;49m\u001b[43mtransform\u001b[49m\u001b[43m(\u001b[49m\u001b[43mnp\u001b[49m\u001b[38;5;241;43m.\u001b[39;49m\u001b[43marray\u001b[49m\u001b[43m(\u001b[49m\n\u001b[0;32m    469\u001b[0m \u001b[43m    \u001b[49m\u001b[43m[\u001b[49m\u001b[43mpts\u001b[49m\u001b[43m[\u001b[49m\u001b[38;5;241;43m0\u001b[39;49m\u001b[43m]\u001b[49m\u001b[43m,\u001b[49m\u001b[43m \u001b[49m\u001b[43m[\u001b[49m\u001b[43mpts\u001b[49m\u001b[43m[\u001b[49m\u001b[38;5;241;43m0\u001b[39;49m\u001b[43m,\u001b[49m\u001b[43m \u001b[49m\u001b[38;5;241;43m0\u001b[39;49m\u001b[43m]\u001b[49m\u001b[43m,\u001b[49m\u001b[43m \u001b[49m\u001b[43mpts\u001b[49m\u001b[43m[\u001b[49m\u001b[38;5;241;43m1\u001b[39;49m\u001b[43m,\u001b[49m\u001b[43m \u001b[49m\u001b[38;5;241;43m1\u001b[39;49m\u001b[43m]\u001b[49m\u001b[43m]\u001b[49m\u001b[43m,\u001b[49m\u001b[43m \u001b[49m\u001b[43m[\u001b[49m\u001b[43mpts\u001b[49m\u001b[43m[\u001b[49m\u001b[38;5;241;43m1\u001b[39;49m\u001b[43m,\u001b[49m\u001b[43m \u001b[49m\u001b[38;5;241;43m0\u001b[39;49m\u001b[43m]\u001b[49m\u001b[43m,\u001b[49m\u001b[43m \u001b[49m\u001b[43mpts\u001b[49m\u001b[43m[\u001b[49m\u001b[38;5;241;43m0\u001b[39;49m\u001b[43m,\u001b[49m\u001b[43m \u001b[49m\u001b[38;5;241;43m1\u001b[39;49m\u001b[43m]\u001b[49m\u001b[43m]\u001b[49m\u001b[43m]\u001b[49m\u001b[43m)\u001b[49m\u001b[43m)\u001b[49m\n\u001b[0;32m    470\u001b[0m \u001b[38;5;28;01mreturn\u001b[39;00m Bbox([ll, [lr[\u001b[38;5;241m0\u001b[39m], ul[\u001b[38;5;241m1\u001b[39m]]])\n",
      "File \u001b[1;32mc:\\Python310\\lib\\site-packages\\matplotlib\\transforms.py:1495\u001b[0m, in \u001b[0;36mTransform.transform\u001b[1;34m(self, values)\u001b[0m\n\u001b[0;32m   1492\u001b[0m values \u001b[38;5;241m=\u001b[39m values\u001b[38;5;241m.\u001b[39mreshape((\u001b[38;5;241m-\u001b[39m\u001b[38;5;241m1\u001b[39m, \u001b[38;5;28mself\u001b[39m\u001b[38;5;241m.\u001b[39minput_dims))\n\u001b[0;32m   1494\u001b[0m \u001b[38;5;66;03m# Transform the values\u001b[39;00m\n\u001b[1;32m-> 1495\u001b[0m res \u001b[38;5;241m=\u001b[39m \u001b[38;5;28;43mself\u001b[39;49m\u001b[38;5;241;43m.\u001b[39;49m\u001b[43mtransform_affine\u001b[49m\u001b[43m(\u001b[49m\u001b[38;5;28;43mself\u001b[39;49m\u001b[38;5;241;43m.\u001b[39;49m\u001b[43mtransform_non_affine\u001b[49m\u001b[43m(\u001b[49m\u001b[43mvalues\u001b[49m\u001b[43m)\u001b[49m\u001b[43m)\u001b[49m\n\u001b[0;32m   1497\u001b[0m \u001b[38;5;66;03m# Convert the result back to the shape of the input values.\u001b[39;00m\n\u001b[0;32m   1498\u001b[0m \u001b[38;5;28;01mif\u001b[39;00m ndim \u001b[38;5;241m==\u001b[39m \u001b[38;5;241m0\u001b[39m:\n",
      "File \u001b[1;32mc:\\Python310\\lib\\site-packages\\matplotlib\\_api\\deprecation.py:297\u001b[0m, in \u001b[0;36mrename_parameter.<locals>.wrapper\u001b[1;34m(*args, **kwargs)\u001b[0m\n\u001b[0;32m    292\u001b[0m     warn_deprecated(\n\u001b[0;32m    293\u001b[0m         since, message\u001b[38;5;241m=\u001b[39m\u001b[38;5;124mf\u001b[39m\u001b[38;5;124m\"\u001b[39m\u001b[38;5;124mThe \u001b[39m\u001b[38;5;132;01m{\u001b[39;00mold\u001b[38;5;132;01m!r}\u001b[39;00m\u001b[38;5;124m parameter of \u001b[39m\u001b[38;5;132;01m{\u001b[39;00mfunc\u001b[38;5;241m.\u001b[39m\u001b[38;5;18m__name__\u001b[39m\u001b[38;5;132;01m}\u001b[39;00m\u001b[38;5;124m() \u001b[39m\u001b[38;5;124m\"\u001b[39m\n\u001b[0;32m    294\u001b[0m         \u001b[38;5;124mf\u001b[39m\u001b[38;5;124m\"\u001b[39m\u001b[38;5;124mhas been renamed \u001b[39m\u001b[38;5;132;01m{\u001b[39;00mnew\u001b[38;5;132;01m!r}\u001b[39;00m\u001b[38;5;124m since Matplotlib \u001b[39m\u001b[38;5;132;01m{\u001b[39;00msince\u001b[38;5;132;01m}\u001b[39;00m\u001b[38;5;124m; support \u001b[39m\u001b[38;5;124m\"\u001b[39m\n\u001b[0;32m    295\u001b[0m         \u001b[38;5;124mf\u001b[39m\u001b[38;5;124m\"\u001b[39m\u001b[38;5;124mfor the old name will be dropped %(removal)s.\u001b[39m\u001b[38;5;124m\"\u001b[39m)\n\u001b[0;32m    296\u001b[0m     kwargs[new] \u001b[38;5;241m=\u001b[39m kwargs\u001b[38;5;241m.\u001b[39mpop(old)\n\u001b[1;32m--> 297\u001b[0m \u001b[38;5;28;01mreturn\u001b[39;00m func(\u001b[38;5;241m*\u001b[39margs, \u001b[38;5;241m*\u001b[39m\u001b[38;5;241m*\u001b[39mkwargs)\n",
      "File \u001b[1;32mc:\\Python310\\lib\\site-packages\\matplotlib\\transforms.py:2409\u001b[0m, in \u001b[0;36mCompositeGenericTransform.transform_affine\u001b[1;34m(self, values)\u001b[0m\n\u001b[0;32m   2406\u001b[0m \u001b[38;5;129m@_api\u001b[39m\u001b[38;5;241m.\u001b[39mrename_parameter(\u001b[38;5;124m\"\u001b[39m\u001b[38;5;124m3.8\u001b[39m\u001b[38;5;124m\"\u001b[39m, \u001b[38;5;124m\"\u001b[39m\u001b[38;5;124mpoints\u001b[39m\u001b[38;5;124m\"\u001b[39m, \u001b[38;5;124m\"\u001b[39m\u001b[38;5;124mvalues\u001b[39m\u001b[38;5;124m\"\u001b[39m)\n\u001b[0;32m   2407\u001b[0m \u001b[38;5;28;01mdef\u001b[39;00m \u001b[38;5;21mtransform_affine\u001b[39m(\u001b[38;5;28mself\u001b[39m, values):\n\u001b[0;32m   2408\u001b[0m     \u001b[38;5;66;03m# docstring inherited\u001b[39;00m\n\u001b[1;32m-> 2409\u001b[0m     \u001b[38;5;28;01mreturn\u001b[39;00m \u001b[38;5;28;43mself\u001b[39;49m\u001b[38;5;241;43m.\u001b[39;49m\u001b[43mget_affine\u001b[49m\u001b[43m(\u001b[49m\u001b[43m)\u001b[49m\u001b[38;5;241m.\u001b[39mtransform(values)\n",
      "File \u001b[1;32mc:\\Python310\\lib\\site-packages\\matplotlib\\transforms.py:2436\u001b[0m, in \u001b[0;36mCompositeGenericTransform.get_affine\u001b[1;34m(self)\u001b[0m\n\u001b[0;32m   2434\u001b[0m     \u001b[38;5;28;01mreturn\u001b[39;00m \u001b[38;5;28mself\u001b[39m\u001b[38;5;241m.\u001b[39m_b\u001b[38;5;241m.\u001b[39mget_affine()\n\u001b[0;32m   2435\u001b[0m \u001b[38;5;28;01melse\u001b[39;00m:\n\u001b[1;32m-> 2436\u001b[0m     \u001b[38;5;28;01mreturn\u001b[39;00m Affine2D(\u001b[43mnp\u001b[49m\u001b[38;5;241;43m.\u001b[39;49m\u001b[43mdot\u001b[49m\u001b[43m(\u001b[49m\u001b[38;5;28;43mself\u001b[39;49m\u001b[38;5;241;43m.\u001b[39;49m\u001b[43m_b\u001b[49m\u001b[38;5;241;43m.\u001b[39;49m\u001b[43mget_affine\u001b[49m\u001b[43m(\u001b[49m\u001b[43m)\u001b[49m\u001b[38;5;241;43m.\u001b[39;49m\u001b[43mget_matrix\u001b[49m\u001b[43m(\u001b[49m\u001b[43m)\u001b[49m\u001b[43m,\u001b[49m\n\u001b[0;32m   2437\u001b[0m \u001b[43m                           \u001b[49m\u001b[38;5;28;43mself\u001b[39;49m\u001b[38;5;241;43m.\u001b[39;49m\u001b[43m_a\u001b[49m\u001b[38;5;241;43m.\u001b[39;49m\u001b[43mget_affine\u001b[49m\u001b[43m(\u001b[49m\u001b[43m)\u001b[49m\u001b[38;5;241;43m.\u001b[39;49m\u001b[43mget_matrix\u001b[49m\u001b[43m(\u001b[49m\u001b[43m)\u001b[49m\u001b[43m)\u001b[49m)\n",
      "\u001b[1;31mKeyboardInterrupt\u001b[0m: "
     ]
    }
   ],
   "source": [
    "construct_cross_section_versus_phi(\n",
    "    jlab_pandas_df[\"QQ\"][0],\n",
    "    jlab_pandas_df[\"x_b\"][0],\n",
    "    jlab_pandas_df[\"t\"],\n",
    "    jlab_pandas_df[\"F\"],\n",
    "    jlab_pandas_df[\"sigmaF\"],\n",
    "    jlab_pandas_df[\"phi_x\"]\n",
    ")"
   ]
  },
  {
   "cell_type": "markdown",
   "metadata": {},
   "source": [
    "Now, we're going to try to slice the data according to a specific value of $Q^{2}$ and $x_{B}$ using the functions we coded earlier. If we use only the first values that appear in the Dataframe, then we'll only have 23 points. (That means, for the values of $Q^{2}$ and $x_{B}$ that appear at index 0 in the DataFrame, up to significance of 0.01, we saw earlier that there were only 23 entries that corresponded to those values.) Recall the following:"
   ]
  },
  {
   "cell_type": "code",
   "execution_count": 39,
   "metadata": {},
   "outputs": [
    {
     "name": "stdout",
     "output_type": "stream",
     "text": [
      "> Starts at 0 and goes to 23\n"
     ]
    },
    {
     "data": {
      "text/plain": [
       "0    -0.172\n",
       "1    -0.172\n",
       "2    -0.172\n",
       "3    -0.172\n",
       "4    -0.172\n",
       "5    -0.172\n",
       "6    -0.172\n",
       "7    -0.172\n",
       "8    -0.172\n",
       "9    -0.172\n",
       "10   -0.172\n",
       "11   -0.172\n",
       "12   -0.172\n",
       "13   -0.172\n",
       "14   -0.172\n",
       "15   -0.172\n",
       "16   -0.172\n",
       "17   -0.172\n",
       "18   -0.172\n",
       "19   -0.172\n",
       "20   -0.172\n",
       "21   -0.172\n",
       "22   -0.172\n",
       "Name: t, dtype: float64"
      ]
     },
     "execution_count": 39,
     "metadata": {},
     "output_type": "execute_result"
    }
   ],
   "source": [
    "test_Q_squared_value = rounded_jlab_data[\"QQ\"][0]\n",
    "test_x_B_value = rounded_jlab_data[\"x_b\"][0]\n",
    "\n",
    "start_index_for_t_values, end_index_for_t_values = find_indices_for_values(\n",
    "    rounded_jlab_data,\n",
    "    x_b_value = test_x_B_value,\n",
    "    QQ_value = test_Q_squared_value,\n",
    "    decimal_places = 2\n",
    ")\n",
    "\n",
    "print(f\"> Starts at {start_index_for_t_values} and goes to {end_index_for_t_values}\")\n",
    "\n",
    "jlab_pandas_df[\"t\"][start_index_for_t_values:end_index_for_t_values]"
   ]
  },
  {
   "cell_type": "markdown",
   "metadata": {},
   "source": [
    "That's good to know, but it's $\\phi$ that we want to index."
   ]
  },
  {
   "cell_type": "code",
   "execution_count": 40,
   "metadata": {},
   "outputs": [
    {
     "data": {
      "image/png": "[encoded data removed]",
      "text/plain": [
       "<Figure size 200x200 with 1 Axes>"
      ]
     },
     "execution_count": 40,
     "metadata": {},
     "output_type": "execute_result"
    }
   ],
   "source": [
    "test_Q_squared_value = rounded_jlab_data[\"QQ\"][0]\n",
    "test_x_B_value = rounded_jlab_data[\"x_b\"][0]\n",
    "\n",
    "start_index_for_t_values, end_index_for_t_values = find_indices_for_values(\n",
    "    rounded_jlab_data,\n",
    "    x_b_value = test_x_B_value,\n",
    "    QQ_value = test_Q_squared_value,\n",
    "    decimal_places = 3\n",
    ")\n",
    "\n",
    "construct_cross_section_versus_phi(\n",
    "    test_Q_squared_value,\n",
    "    test_x_B_value,\n",
    "    rounded_jlab_data[\"t\"][0],\n",
    "    rounded_jlab_data[\"F\"][start_index_for_t_values:end_index_for_t_values],\n",
    "    rounded_jlab_data[\"sigmaF\"][start_index_for_t_values:end_index_for_t_values],\n",
    "    rounded_jlab_data[\"phi_x\"][start_index_for_t_values:end_index_for_t_values]\n",
    ")"
   ]
  },
  {
   "cell_type": "code",
   "execution_count": null,
   "metadata": {},
   "outputs": [],
   "source": [
    "def obtain_width_and_height_of_text_annotation(plot_instance, annotation_text, verbose = True):\n",
    "    \"\"\"\n",
    "    \"\"\"\n",
    "    target_annotation = None\n",
    "    \n",
    "    try:\n",
    "        for annotation in plot_instance.gca().texts:\n",
    "            if annotation.get_text() == annotation_text:\n",
    "                target_annotation = annotation\n",
    "                break\n",
    "\n",
    "        if target_annotation:\n",
    "            annotation_bounding_box = target_annotation.get_window_extent()\n",
    "\n",
    "            annotation_box_height = annotation_bounding_box.height\n",
    "            annotation_box_width = annotation_bounding_box.width\n",
    "\n",
    "            if verbose:\n",
    "                print(f\"> Textbox height was: {annotation_box_height}\")\n",
    "                print(f\"> Textbox width was: {annotation_box_width}\")\n",
    "\n",
    "            return annotation_box_height, annotation_box_width\n",
    "        \n",
    "        else:\n",
    "            if verbose:\n",
    "                print(\"> Annotation not found.\")\n",
    "\n",
    "            return 0., 0.\n",
    "    \n",
    "    except Exception as ERROR:\n",
    "        print(f\"> Error finding the height and width of the annotation: \\n> {ERROR}\")\n",
    "        return 0., 0.\n",
    "        "
   ]
  },
  {
   "cell_type": "code",
   "execution_count": 64,
   "metadata": {},
   "outputs": [
    {
     "name": "stdout",
     "output_type": "stream",
     "text": [
      "Range of indices for x_b = 0.36 and QQ = 3.17: None to None\n",
      "> Found 2 t values. Now enlisting 2 subplots...\n"
     ]
    },
    {
     "data": {
      "image/png": "[encoded data removed]",
      "text/plain": [
       "<Figure size 400x200 with 2 Axes>"
      ]
     },
     "execution_count": 64,
     "metadata": {},
     "output_type": "execute_result"
    }
   ],
   "source": [
    "test_Q_squared_value_2 = rounded_jlab_data[\"QQ\"][500]\n",
    "test_x_B_value_2 = rounded_jlab_data[\"x_b\"][500]\n",
    "\n",
    "number_of_decimal_places = 3\n",
    "\n",
    "starting_index_2, ending_index_2 = find_indices_for_values(\n",
    "    jlab_pandas_df, \n",
    "    x_b_value = test_x_B_value_2, \n",
    "    QQ_value = test_Q_squared_value_2, \n",
    "    decimal_places = number_of_decimal_places)\n",
    "\n",
    "print(f\"Range of indices for x_b = {test_x_B_value_2} and QQ = {test_Q_squared_value_2}: {starting_index_2} to {ending_index_2}\")\n",
    "\n",
    "get_distinct_numbers(jlab_pandas_df['t'][starting_index_2:ending_index_2])\n",
    "\n",
    "start_index_for_t_values, end_index_for_t_values = find_indices_for_values(\n",
    "    rounded_jlab_data,\n",
    "    x_b_value = test_x_B_value_2,\n",
    "    QQ_value = test_Q_squared_value_2,\n",
    "    decimal_places = 3\n",
    ")\n",
    "\n",
    "construct_cross_section_versus_phi(\n",
    "    test_Q_squared_value,\n",
    "    test_x_B_value,\n",
    "    rounded_jlab_data[\"t\"][start_index_for_t_values:end_index_for_t_values],\n",
    "    rounded_jlab_data[\"F\"][start_index_for_t_values:end_index_for_t_values],\n",
    "    rounded_jlab_data[\"sigmaF\"][start_index_for_t_values:end_index_for_t_values],\n",
    "    rounded_jlab_data[\"phi_x\"][start_index_for_t_values:end_index_for_t_values]\n",
    ")"
   ]
  },
  {
   "cell_type": "code",
   "execution_count": null,
   "metadata": {},
   "outputs": [],
   "source": [
    "def analyze_kinematic_data(\n",
    "        incoming_data_file: str,\n",
    "        verbose = True) -> None:\n",
    "    \"\"\"\n",
    "    \"\"\"\n",
    "\n",
    "    # (1): Scrub the incoming data file:\n",
    "    if incoming_data_file == None:\n",
    "\n",
    "        if verbose:\n",
    "            print(f\"> \")\n",
    "        return None"
   ]
  },
  {
   "cell_type": "code",
   "execution_count": 4,
   "metadata": {},
   "outputs": [
    {
     "ename": "NameError",
     "evalue": "name 'plt' is not defined",
     "output_type": "error",
     "traceback": [
      "\u001b[1;31m---------------------------------------------------------------------------\u001b[0m",
      "\u001b[1;31mNameError\u001b[0m                                 Traceback (most recent call last)",
      "Cell \u001b[1;32mIn[4], line 1\u001b[0m\n\u001b[1;32m----> 1\u001b[0m ax \u001b[38;5;241m=\u001b[39m \u001b[43mplt\u001b[49m\u001b[38;5;241m.\u001b[39mfigure()\u001b[38;5;241m.\u001b[39madd_subplot(projection\u001b[38;5;241m=\u001b[39m\u001b[38;5;124m'\u001b[39m\u001b[38;5;124m3d\u001b[39m\u001b[38;5;124m'\u001b[39m)\n\u001b[0;32m      4\u001b[0m ax\u001b[38;5;241m.\u001b[39mscatter(jlab_pandas_df[\u001b[38;5;124m\"\u001b[39m\u001b[38;5;124mQQ\u001b[39m\u001b[38;5;124m\"\u001b[39m], jlab_pandas_df[\u001b[38;5;124m\"\u001b[39m\u001b[38;5;124mt\u001b[39m\u001b[38;5;124m\"\u001b[39m], jlab_pandas_df[\u001b[38;5;124m\"\u001b[39m\u001b[38;5;124mx_b\u001b[39m\u001b[38;5;124m\"\u001b[39m])\n",
      "\u001b[1;31mNameError\u001b[0m: name 'plt' is not defined"
     ]
    }
   ],
   "source": [
    "ax = plt.figure().add_subplot(projection='3d')\n",
    "\n",
    "\n",
    "ax.scatter(jlab_pandas_df[\"QQ\"], jlab_pandas_df[\"t\"], jlab_pandas_df[\"x_b\"])"
   ]
  },
  {
   "cell_type": "code",
   "execution_count": null,
   "metadata": {},
   "outputs": [],
   "source": []
  }
 ],
 "metadata": {
  "kernelspec": {
   "display_name": "Python 3",
   "language": "python",
   "name": "python3"
  },
  "language_info": {
   "codemirror_mode": {
    "name": "ipython",
    "version": 3
   },
   "file_extension": ".py",
   "mimetype": "text/x-python",
   "name": "python",
   "nbconvert_exporter": "python",
   "pygments_lexer": "ipython3",
   "version": "3.10.5"
  }
 },
 "nbformat": 4,
 "nbformat_minor": 2
}
