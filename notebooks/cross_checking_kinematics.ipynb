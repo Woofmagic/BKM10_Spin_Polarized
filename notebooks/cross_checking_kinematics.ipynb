{
 "cells": [
  {
   "cell_type": "markdown",
   "metadata": {},
   "source": [
    "# Cross-Checking with Existing Code\n",
    "\n",
    "Simply put, we need to see if the stuff we have just coded agrees numerically with what has been done before. So, we're going to first fix a particular kinematic bin and then just plug-and-chug using the \"old code\" and \"new code\" respectively."
   ]
  },
  {
   "cell_type": "markdown",
   "metadata": {},
   "source": [
    "## (0): Importing Libraries"
   ]
  },
  {
   "cell_type": "code",
   "execution_count": 1,
   "metadata": {},
   "outputs": [],
   "source": [
    "import numpy as np"
   ]
  },
  {
   "cell_type": "markdown",
   "metadata": {},
   "source": [
    "## (1): Fixing Kinematic Bins:"
   ]
  },
  {
   "cell_type": "code",
   "execution_count": 2,
   "metadata": {},
   "outputs": [],
   "source": [
    "# Old-code nomenclature:\n",
    "M2 = 0.938272 * 0.938272\n",
    "ALP_INV = 137.0359998\n",
    "PI = 3.1415926535\n",
    "RAD = PI / 180.\n",
    "\n",
    "QQ = 1.8200000524520876\n",
    "x = 0.3429999947547912\n",
    "k = 5.75\n",
    "t = -0.1720000058412552\n",
    "phi = 22.5\n",
    "\n",
    "# New-code nomenclature:\n",
    "_MASS_OF_PROTON_IN_GEV = 0.938272\n",
    "_ELECTROMAGNETIC_FINE_STRUCTURE_CONSTANT = (1. / 137.0359998)\n",
    "_PI_DECIMAL = 3.141592653589793238462643383279502884197\n",
    "\n",
    "squared_Q_momentum_transfer = 1.8200000524520876\n",
    "x_Bjorken = 0.3429999947547912\n",
    "lab_kinematics_k = 5.75\n",
    "squared_hadronic_momentum_transfer_t = -0.1720000058412552\n",
    "azimuthal_phi = 22.5"
   ]
  },
  {
   "cell_type": "markdown",
   "metadata": {},
   "source": [
    "## (2): Begin Testing:"
   ]
  },
  {
   "cell_type": "markdown",
   "metadata": {},
   "source": [
    "### (2.1): Checking $\\epsilon^{2}$:"
   ]
  },
  {
   "cell_type": "markdown",
   "metadata": {},
   "source": [
    "### (2.1.1): $\\epsilon^{2}$ | Existing Code:"
   ]
  },
  {
   "cell_type": "code",
   "execution_count": 3,
   "metadata": {},
   "outputs": [
    {
     "name": "stdout",
     "output_type": "stream",
     "text": [
      "0.2276325325231178\n"
     ]
    }
   ],
   "source": [
    "ee = 4. * M2 * x * x / QQ  # epsilon squared\n",
    "print(ee)"
   ]
  },
  {
   "cell_type": "markdown",
   "metadata": {},
   "source": [
    "### (2.1.2): $\\epsilon^{2}$ | New Code:"
   ]
  },
  {
   "cell_type": "code",
   "execution_count": 4,
   "metadata": {},
   "outputs": [
    {
     "name": "stdout",
     "output_type": "stream",
     "text": [
      "0.22763253252311777\n"
     ]
    }
   ],
   "source": [
    "epsilon_squared = (4. * _MASS_OF_PROTON_IN_GEV**2 * x_Bjorken**2) / squared_Q_momentum_transfer\n",
    "print(epsilon_squared)"
   ]
  },
  {
   "cell_type": "markdown",
   "metadata": {},
   "source": [
    "### (2.1.3): $\\epsilon^{2}$ | Error:"
   ]
  },
  {
   "cell_type": "code",
   "execution_count": 5,
   "metadata": {},
   "outputs": [
    {
     "data": {
      "text/plain": [
       "1.219314976993024e-16"
      ]
     },
     "execution_count": 5,
     "metadata": {},
     "output_type": "execute_result"
    }
   ],
   "source": [
    "def compute_error(accepted_value, calculated_value):\n",
    "    error = np.abs(accepted_value - calculated_value) / accepted_value\n",
    "    return error\n",
    "\n",
    "compute_error(ee, epsilon_squared)"
   ]
  },
  {
   "cell_type": "markdown",
   "metadata": {},
   "source": [
    "### (2.2): Checking $y$:"
   ]
  },
  {
   "cell_type": "markdown",
   "metadata": {},
   "source": [
    "### (2.2.1): $y$ | Existing Code:"
   ]
  },
  {
   "cell_type": "code",
   "execution_count": 6,
   "metadata": {},
   "outputs": [
    {
     "name": "stdout",
     "output_type": "stream",
     "text": [
      "0.49175715830647937\n"
     ]
    }
   ],
   "source": [
    "y = sqrt(QQ) / (sqrt(ee) * k)\n",
    "print(y)"
   ]
  },
  {
   "cell_type": "markdown",
   "metadata": {},
   "source": [
    "### (2.2.2): $y$ | New Code:"
   ]
  },
  {
   "cell_type": "code",
   "execution_count": 7,
   "metadata": {},
   "outputs": [
    {
     "name": "stdout",
     "output_type": "stream",
     "text": [
      "0.49175715830647937\n"
     ]
    }
   ],
   "source": [
    "lepton_energy_fraction_y = sqrt(squared_Q_momentum_transfer) / (sqrt(epsilon_squared) * lab_kinematics_k)\n",
    "print(lepton_energy_fraction_y)"
   ]
  },
  {
   "cell_type": "markdown",
   "metadata": {},
   "source": [
    "### (2.2.3): $y$ | Error:"
   ]
  },
  {
   "cell_type": "code",
   "execution_count": 8,
   "metadata": {},
   "outputs": [
    {
     "data": {
      "text/plain": [
       "0.0"
      ]
     },
     "execution_count": 8,
     "metadata": {},
     "output_type": "execute_result"
    }
   ],
   "source": [
    "compute_error(y, lepton_energy_fraction_y)"
   ]
  },
  {
   "cell_type": "markdown",
   "metadata": {},
   "source": [
    "### (2.3): Checking $\\xi$:"
   ]
  },
  {
   "cell_type": "markdown",
   "metadata": {},
   "source": [
    "### (2.3.1): $\\xi$ | Existing Code:"
   ]
  },
  {
   "cell_type": "code",
   "execution_count": 9,
   "metadata": {},
   "outputs": [
    {
     "name": "stdout",
     "output_type": "stream",
     "text": [
      "0.20115437410625223\n"
     ]
    }
   ],
   "source": [
    "xi = x * (1. + t / 2. / QQ) / (2. - x + x * t / QQ)\n",
    "print(xi)"
   ]
  },
  {
   "cell_type": "markdown",
   "metadata": {},
   "source": [
    "### (2.3.2): $\\xi$ | New Code:"
   ]
  },
  {
   "cell_type": "code",
   "execution_count": 10,
   "metadata": {},
   "outputs": [
    {
     "name": "stdout",
     "output_type": "stream",
     "text": [
      "0.20115437410625223\n"
     ]
    }
   ],
   "source": [
    "numerator = (1. + (squared_hadronic_momentum_transfer_t / (2. * squared_Q_momentum_transfer)))\n",
    "denominator = (2. - x_Bjorken + (x_Bjorken * squared_hadronic_momentum_transfer_t / squared_Q_momentum_transfer))\n",
    "skewness_parameter = x_Bjorken * numerator / denominator\n",
    "print(skewness_parameter)"
   ]
  },
  {
   "cell_type": "markdown",
   "metadata": {},
   "source": [
    "### (2.3.3): $\\xi$ | Error:"
   ]
  },
  {
   "cell_type": "code",
   "execution_count": 11,
   "metadata": {},
   "outputs": [
    {
     "data": {
      "text/plain": [
       "0.0"
      ]
     },
     "execution_count": 11,
     "metadata": {},
     "output_type": "execute_result"
    }
   ],
   "source": [
    "compute_error(xi, skewness_parameter)"
   ]
  },
  {
   "cell_type": "markdown",
   "metadata": {},
   "source": [
    "### (2.4): Checking $\\Gamma$ (Prefactor):"
   ]
  },
  {
   "cell_type": "markdown",
   "metadata": {},
   "source": [
    "### (2.4.1): $\\Gamma$ | Existing Code:"
   ]
  },
  {
   "cell_type": "code",
   "execution_count": 12,
   "metadata": {},
   "outputs": [
    {
     "name": "stdout",
     "output_type": "stream",
     "text": [
      "3.4944161283283973e-10\n"
     ]
    }
   ],
   "source": [
    "Gamma = x * y * y / ALP_INV / ALP_INV / ALP_INV / PI / 8. / QQ / QQ / sqrt(1. + ee)\n",
    "print(Gamma)"
   ]
  },
  {
   "cell_type": "markdown",
   "metadata": {},
   "source": [
    "### (2.4.2): $\\Gamma$ | New Code:"
   ]
  },
  {
   "cell_type": "code",
   "execution_count": 13,
   "metadata": {},
   "outputs": [
    {
     "name": "stdout",
     "output_type": "stream",
     "text": [
      "3.4944161282285183e-10\n"
     ]
    }
   ],
   "source": [
    "numerator = _ELECTROMAGNETIC_FINE_STRUCTURE_CONSTANT**3 * lepton_energy_fraction_y**2 * x_Bjorken\n",
    "denominator = 8. * np.pi * squared_Q_momentum_transfer**2 * sqrt(1 + epsilon_squared)\n",
    "prefactor = numerator / denominator\n",
    "print(prefactor)"
   ]
  },
  {
   "cell_type": "markdown",
   "metadata": {},
   "source": [
    "### (2.4.3): $\\Gamma$ | Error:"
   ]
  },
  {
   "cell_type": "code",
   "execution_count": 14,
   "metadata": {},
   "outputs": [
    {
     "data": {
      "text/plain": [
       "2.858244506966018e-11"
      ]
     },
     "execution_count": 14,
     "metadata": {},
     "output_type": "execute_result"
    }
   ],
   "source": [
    "compute_error(Gamma, prefactor)"
   ]
  },
  {
   "cell_type": "markdown",
   "metadata": {},
   "source": [
    "### (2.5): Checking $t_{\\text{min}}$:"
   ]
  },
  {
   "cell_type": "markdown",
   "metadata": {},
   "source": [
    "### (2.5.1): $t_{\\text{min}}$ | Existing Code:"
   ]
  },
  {
   "cell_type": "code",
   "execution_count": 15,
   "metadata": {},
   "outputs": [
    {
     "name": "stdout",
     "output_type": "stream",
     "text": [
      "-0.13821105657385563\n"
     ]
    }
   ],
   "source": [
    "tmin = - QQ * (2. * (1. - x) * (1. - sqrt(1. + ee)) + ee) / (4. * x * (1. - x) + ee)\n",
    "print(tmin)"
   ]
  },
  {
   "cell_type": "markdown",
   "metadata": {},
   "source": [
    "### (2.5.2): $t_{\\text{min}}$ | New Code:"
   ]
  },
  {
   "cell_type": "code",
   "execution_count": 16,
   "metadata": {},
   "outputs": [
    {
     "name": "stdout",
     "output_type": "stream",
     "text": [
      "-0.13821105657385557\n"
     ]
    }
   ],
   "source": [
    "one_minus_xb = 1. - x_Bjorken\n",
    "numerator = (2. * one_minus_xb * (1. - sqrt(1. + epsilon_squared))) + epsilon_squared\n",
    "denominator = (4. * x_Bjorken * one_minus_xb) + epsilon_squared\n",
    "squared_hadronic_momentum_transfer_t_minimum = -1. * squared_Q_momentum_transfer * numerator / denominator\n",
    "print(squared_hadronic_momentum_transfer_t_minimum)"
   ]
  },
  {
   "cell_type": "markdown",
   "metadata": {},
   "source": [
    "### (2.5.3): $t_{\\text{min}}$ | Error:"
   ]
  },
  {
   "cell_type": "code",
   "execution_count": 17,
   "metadata": {},
   "outputs": [
    {
     "data": {
      "text/plain": [
       "-4.0164045198217856e-16"
      ]
     },
     "execution_count": 17,
     "metadata": {},
     "output_type": "execute_result"
    }
   ],
   "source": [
    "compute_error(tmin, squared_hadronic_momentum_transfer_t_minimum)"
   ]
  },
  {
   "cell_type": "markdown",
   "metadata": {},
   "source": [
    "### (2.6): Checking $\\tilde{K}$:"
   ]
  },
  {
   "cell_type": "markdown",
   "metadata": {},
   "source": [
    "#### (2.6.1): $\\tilde{K}$ | Existing Code:"
   ]
  },
  {
   "cell_type": "code",
   "execution_count": 18,
   "metadata": {},
   "outputs": [
    {
     "name": "stdout",
     "output_type": "stream",
     "text": [
      "0.15209184617030805\n"
     ]
    }
   ],
   "source": [
    "Ktilde_10 = sqrt(tmin - t) * sqrt((1. - x) * sqrt(1. + ee) + ((t - tmin) * (ee + 4. * x * (1. - x)) / 4. / QQ)) * sqrt(1. - y - y * y * ee / 4.) / sqrt(1. - y + y * y * ee / 4.)\n",
    "print(Ktilde_10)"
   ]
  },
  {
   "cell_type": "markdown",
   "metadata": {},
   "source": [
    "#### (2.6.2): $\\tilde{K}$ | New Code:"
   ]
  },
  {
   "cell_type": "code",
   "execution_count": 19,
   "metadata": {},
   "outputs": [
    {
     "name": "stdout",
     "output_type": "stream",
     "text": [
      "0.1520700067174505\n"
     ]
    }
   ],
   "source": [
    "tmin_minus_t = squared_hadronic_momentum_transfer_t_minimum - squared_hadronic_momentum_transfer_t\n",
    "one_minus_xb = 1. - x_Bjorken\n",
    "second_root_quantity = (one_minus_xb * sqrt(1. + epsilon_squared)) + ((tmin_minus_t * (epsilon_squared + (4. * one_minus_xb * x_Bjorken))) / (4. * squared_Q_momentum_transfer))\n",
    "first_root_quantity = sqrt(1. - lepton_energy_fraction_y - lepton_energy_fraction_y**2 * epsilon_squared / 4.)\n",
    "second_root_quantity = sqrt(1. - lepton_energy_fraction_y + lepton_energy_fraction_y**2 * epsilon_squared / 4.)\n",
    "k_tilde = sqrt(tmin_minus_t) * sqrt(second_root_quantity) * first_root_quantity / second_root_quantity\n",
    "print(k_tilde)"
   ]
  },
  {
   "cell_type": "markdown",
   "metadata": {},
   "source": [
    "#### (2.6.3): $\\tilde{K}$ | Error:"
   ]
  },
  {
   "cell_type": "code",
   "execution_count": 20,
   "metadata": {},
   "outputs": [
    {
     "data": {
      "text/plain": [
       "0.00014359384416372687"
      ]
     },
     "execution_count": 20,
     "metadata": {},
     "output_type": "execute_result"
    }
   ],
   "source": [
    "compute_error(Ktilde_10, k_tilde)"
   ]
  },
  {
   "cell_type": "markdown",
   "metadata": {},
   "source": [
    "### (2.7): Checking $K$:"
   ]
  },
  {
   "cell_type": "markdown",
   "metadata": {},
   "source": [
    "### (2.7.1): $K$ | Existing Code:"
   ]
  },
  {
   "cell_type": "code",
   "execution_count": 21,
   "metadata": {},
   "outputs": [
    {
     "name": "stdout",
     "output_type": "stream",
     "text": [
      "0.08145306294235705\n"
     ]
    }
   ],
   "source": [
    "K = sqrt(1. - y + y * y * ee / 4.) * Ktilde_10 / sqrt(QQ)\n",
    "print(K)"
   ]
  },
  {
   "cell_type": "markdown",
   "metadata": {},
   "source": [
    "### (2.7.2): $K$ | New Code:"
   ]
  },
  {
   "cell_type": "code",
   "execution_count": 22,
   "metadata": {},
   "outputs": [
    {
     "name": "stdout",
     "output_type": "stream",
     "text": [
      "0.08144136678393026\n"
     ]
    }
   ],
   "source": [
    "prefactor = sqrt((1. - lepton_energy_fraction_y + (epsilon_squared * lepton_energy_fraction_y**2 / 4.)) / squared_Q_momentum_transfer)\n",
    "kinematic_k = prefactor * k_tilde\n",
    "print(kinematic_k)"
   ]
  },
  {
   "cell_type": "markdown",
   "metadata": {},
   "source": [
    "### (2.7.3): $K$ | Error:"
   ]
  },
  {
   "cell_type": "code",
   "execution_count": 23,
   "metadata": {},
   "outputs": [
    {
     "data": {
      "text/plain": [
       "0.0001435938441635796"
      ]
     },
     "execution_count": 23,
     "metadata": {},
     "output_type": "execute_result"
    }
   ],
   "source": [
    "compute_error(K, kinematic_k)"
   ]
  },
  {
   "cell_type": "markdown",
   "metadata": {},
   "source": [
    "### (2.8): Checking $k \\cdot \\Delta$:"
   ]
  },
  {
   "cell_type": "markdown",
   "metadata": {},
   "source": [
    "### (2.8.1): $k \\cdot \\Delta$ | Existing Code:"
   ]
  },
  {
   "cell_type": "code",
   "execution_count": 24,
   "metadata": {},
   "outputs": [
    {
     "name": "stdout",
     "output_type": "stream",
     "text": [
      "-1.4416101302101973\n"
     ]
    }
   ],
   "source": [
    "KD = - QQ / (2. * y * (1. + ee)) * (1. + 2. * K * np.cos(PI - (phi * RAD)) - t / QQ * (1. - x * (2. - y) + y * ee / 2.) + y * ee / 2.)  # eq. (29)\n",
    "print(KD)"
   ]
  },
  {
   "cell_type": "markdown",
   "metadata": {},
   "source": [
    "### (2.8.2): $k \\cdot \\Delta$ | New Code:"
   ]
  },
  {
   "cell_type": "code",
   "execution_count": 28,
   "metadata": {},
   "outputs": [
    {
     "name": "stdout",
     "output_type": "stream",
     "text": [
      "-1.4416427071894276\n"
     ]
    }
   ],
   "source": [
    "def convert_degrees_to_radians(degrees: float) -> float:\n",
    "    return (degrees * np.pi / 180.)\n",
    "\n",
    "prefactor = squared_Q_momentum_transfer / (2. * lepton_energy_fraction_y * (1. + epsilon_squared))\n",
    "phi_dependence = 2. * kinematic_k * np.cos(_PI_DECIMAL - convert_degrees_to_radians(azimuthal_phi))\n",
    "ratio_delta_to_q_squared = squared_hadronic_momentum_transfer_t / squared_Q_momentum_transfer\n",
    "bjorken_scaling = x_Bjorken * (2. - lepton_energy_fraction_y)\n",
    "ratio_y_epsilon = lepton_energy_fraction_y * epsilon_squared / 2.\n",
    "correction = phi_dependence - (ratio_delta_to_q_squared * (1. - bjorken_scaling + ratio_y_epsilon)) + (ratio_y_epsilon)\n",
    "in_parentheses = 1. + correction\n",
    "k_dot_delta_result = -1. * prefactor * in_parentheses\n",
    "print(k_dot_delta_result)"
   ]
  },
  {
   "cell_type": "markdown",
   "metadata": {},
   "source": [
    "### (2.8.3): $k \\cdot \\Delta$ | Error:"
   ]
  },
  {
   "cell_type": "code",
   "execution_count": 29,
   "metadata": {},
   "outputs": [
    {
     "data": {
      "text/plain": [
       "-2.2597634788715964e-05"
      ]
     },
     "execution_count": 29,
     "metadata": {},
     "output_type": "execute_result"
    }
   ],
   "source": [
    "compute_error(KD, k_dot_delta_result)"
   ]
  },
  {
   "cell_type": "markdown",
   "metadata": {},
   "source": [
    "### (2.9): Checking $P_{1}$:"
   ]
  },
  {
   "cell_type": "markdown",
   "metadata": {},
   "source": [
    "### (2.9.1): $P_{1}$ | Existing Code:"
   ]
  },
  {
   "cell_type": "code",
   "execution_count": 34,
   "metadata": {},
   "outputs": [
    {
     "name": "stdout",
     "output_type": "stream",
     "text": [
      "-0.5841869106189472\n"
     ]
    }
   ],
   "source": [
    "P1 = 1. + 2. * KD / QQ\n",
    "print(P1)"
   ]
  },
  {
   "cell_type": "markdown",
   "metadata": {},
   "source": [
    "### (2.9.2): $P_{1}$ | New Code:"
   ]
  },
  {
   "cell_type": "code",
   "execution_count": 31,
   "metadata": {},
   "outputs": [
    {
     "name": "stdout",
     "output_type": "stream",
     "text": [
      "-0.5842227094961905\n"
     ]
    }
   ],
   "source": [
    "p1_propagator = 1. + (2. * (k_dot_delta_result / squared_Q_momentum_transfer))\n",
    "print(p1_propagator)"
   ]
  },
  {
   "cell_type": "markdown",
   "metadata": {},
   "source": [
    "### (2.9.3): $P_{1}$ | Error:"
   ]
  },
  {
   "cell_type": "code",
   "execution_count": 33,
   "metadata": {},
   "outputs": [
    {
     "data": {
      "text/plain": [
       "-6.127983457439132e-05"
      ]
     },
     "execution_count": 33,
     "metadata": {},
     "output_type": "execute_result"
    }
   ],
   "source": [
    "compute_error(P1, p1_propagator)"
   ]
  },
  {
   "cell_type": "markdown",
   "metadata": {},
   "source": [
    "### (2.10): Checking $P_{2}$:"
   ]
  },
  {
   "cell_type": "markdown",
   "metadata": {},
   "source": [
    "### (2.10.1): $P_{2}$ | Existing Code:"
   ]
  },
  {
   "cell_type": "code",
   "execution_count": 35,
   "metadata": {},
   "outputs": [
    {
     "name": "stdout",
     "output_type": "stream",
     "text": [
      "1.489681415627604\n"
     ]
    }
   ],
   "source": [
    "P2 = t / QQ - 2. * KD / QQ\n",
    "print(P2)"
   ]
  },
  {
   "cell_type": "markdown",
   "metadata": {},
   "source": [
    "### (2.10.2): $P_{2}$ | New Code:"
   ]
  },
  {
   "cell_type": "code",
   "execution_count": 36,
   "metadata": {},
   "outputs": [
    {
     "name": "stdout",
     "output_type": "stream",
     "text": [
      "1.4897172145048472\n"
     ]
    }
   ],
   "source": [
    "p2_propagator = (2. * (k_dot_delta_result / squared_Q_momentum_transfer)) + (squared_hadronic_momentum_transfer_t / squared_Q_momentum_transfer)\n",
    "print(p2_propagator)"
   ]
  },
  {
   "cell_type": "markdown",
   "metadata": {},
   "source": [
    "### (2.10.3): $P_{2}$ | Error:"
   ]
  },
  {
   "cell_type": "code",
   "execution_count": 37,
   "metadata": {},
   "outputs": [
    {
     "data": {
      "text/plain": [
       "2.403123034744427e-05"
      ]
     },
     "execution_count": 37,
     "metadata": {},
     "output_type": "execute_result"
    }
   ],
   "source": [
    "compute_error(P2, p2_propagator)"
   ]
  }
 ],
 "metadata": {
  "kernelspec": {
   "display_name": "Python 3",
   "language": "python",
   "name": "python3"
  },
  "language_info": {
   "codemirror_mode": {
    "name": "ipython",
    "version": 3
   },
   "file_extension": ".py",
   "mimetype": "text/x-python",
   "name": "python",
   "nbconvert_exporter": "python",
   "pygments_lexer": "ipython3",
   "version": "3.10.5"
  }
 },
 "nbformat": 4,
 "nbformat_minor": 2
}
