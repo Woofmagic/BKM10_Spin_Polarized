{
 "cells": [
  {
   "cell_type": "code",
   "execution_count": 1,
   "metadata": {},
   "outputs": [],
   "source": [
    "a = complex(1, 1)\n",
    "b = complex(1, -1)"
   ]
  },
  {
   "cell_type": "code",
   "execution_count": 6,
   "metadata": {},
   "outputs": [
    {
     "name": "stdout",
     "output_type": "stream",
     "text": [
      "(2+0j)\n",
      "2.0\n"
     ]
    }
   ],
   "source": [
    "print(a*b)\n",
    "print((a*b).real)"
   ]
  },
  {
   "cell_type": "code",
   "execution_count": 9,
   "metadata": {},
   "outputs": [
    {
     "data": {
      "text/plain": [
       "(1-1j)"
      ]
     },
     "execution_count": 9,
     "metadata": {},
     "output_type": "execute_result"
    }
   ],
   "source": [
    "a.conjugate()"
   ]
  },
  {
   "cell_type": "code",
   "execution_count": 10,
   "metadata": {},
   "outputs": [],
   "source": [
    "def compute_cff_effective(\n",
    "    skewness_parameter: float,\n",
    "    compton_form_factor: complex,\n",
    "    verbose: bool = False) -> float:\n",
    "\n",
    "    # (1): Do the calculation in one line:\n",
    "    cff_effective = 2. * skewness_parameter * compton_form_factor / (1. + skewness_parameter)\n",
    "\n",
    "    # (2): Return the output:\n",
    "    return cff_effective"
   ]
  },
  {
   "cell_type": "code",
   "execution_count": 13,
   "metadata": {},
   "outputs": [
    {
     "data": {
      "text/plain": [
       "(0.300436775593585-0.8108778525218164j)"
      ]
     },
     "execution_count": 13,
     "metadata": {},
     "output_type": "execute_result"
    }
   ],
   "source": [
    "_TEST_CFF_REAL_H = -0.897\n",
    "_TEST_CFF_IMAGINARY_H = 2.421\n",
    "_TEST_SKEWNESS = 0.20115437410625\n",
    "\n",
    "h_cff = complex(_TEST_CFF_REAL_H, _TEST_CFF_IMAGINARY_H)\n",
    "\n",
    "compute_cff_effective(_TEST_SKEWNESS, h_cff)"
   ]
  },
  {
   "cell_type": "code",
   "execution_count": null,
   "metadata": {},
   "outputs": [
    {
     "name": "stdout",
     "output_type": "stream",
     "text": [
      "(2+0j)\n",
      "2.0\n"
     ]
    }
   ],
   "source": []
  }
 ],
 "metadata": {
  "kernelspec": {
   "display_name": "Python 3",
   "language": "python",
   "name": "python3"
  },
  "language_info": {
   "codemirror_mode": {
    "name": "ipython",
    "version": 3
   },
   "file_extension": ".py",
   "mimetype": "text/x-python",
   "name": "python",
   "nbconvert_exporter": "python",
   "pygments_lexer": "ipython3",
   "version": "3.10.5"
  }
 },
 "nbformat": 4,
 "nbformat_minor": 2
}
