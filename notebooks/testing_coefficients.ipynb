{
 "cells": [
  {
   "cell_type": "markdown",
   "metadata": {},
   "source": [
    "# Libraries:"
   ]
  },
  {
   "cell_type": "code",
   "execution_count": 1,
   "metadata": {},
   "outputs": [],
   "source": [
    "import numpy as np\n",
    "import sympy as sp"
   ]
  },
  {
   "cell_type": "markdown",
   "metadata": {},
   "source": []
  },
  {
   "cell_type": "code",
   "execution_count": 3,
   "metadata": {},
   "outputs": [],
   "source": [
    "compton_form_factor_h_real_part = -0.897\n",
    "compton_form_factor_h_imaginary_part = 2.421\n",
    "\n",
    "compton_form_factor_h_tilde_real_part = 2.444\n",
    "compton_form_factor_h_tilde_imaginary_part = 1.131\n",
    "\n",
    "compton_form_factor_e_real_part = -0.541\n",
    "compton_form_factor_e_imaginary_part = 2.207\n",
    "\n",
    "compton_form_factor_e_imaginary_part = 0.903\n",
    "compton_form_factor_e_tilde_imaginary_part = 5.383"
   ]
  },
  {
   "cell_type": "code",
   "execution_count": 33,
   "metadata": {},
   "outputs": [],
   "source": [
    "def two_complex_variable_product(\n",
    "        z_1_real_part: float,\n",
    "        z_1_imaginary_part: float,\n",
    "        z_2_real_part: float,\n",
    "        z_2_imaginary_part: float) -> complex:\n",
    "    \"\"\"\n",
    "    # Title: `two_complex_variable_product`\n",
    "\n",
    "    ## Description:\n",
    "    We take the Real and Imaginary parts of two complex numbers and compute their\n",
    "    product. A complex number has both a Real and Imaginary part, and we need to\n",
    "    expand out these parts in order to do the calculation in entirey. You can \n",
    "    verify for yourself that the following is true:\n",
    "\n",
    "    $$z1 * z2 = (x1 * x2 - y1 * y2) + i (y1 * x2 + y2 * x1).$$\n",
    "\n",
    "    ## Arguments:\n",
    "\n",
    "        1. `z_1_real_part`: `float`\n",
    "            Re[z_{1}]\n",
    "\n",
    "        2. `z_1_imaginary_part`: `float`\n",
    "            Im[z_{1}]\n",
    "\n",
    "        3. `z_2_real_part`: `float`\n",
    "            Re[z_{2}]\n",
    "\n",
    "        4. `z_1_imaginary_part`: `float`\n",
    "            Im[z_{2}]\n",
    "\n",
    "    ## Returns:\n",
    "    \n",
    "        1. `complex_number`: `complex`\n",
    "            A `complex` datatype that contains the real and imaginary part\n",
    "            of the computation.\n",
    "\n",
    "    ## Examples:\n",
    "    ```python\n",
    "    z = complex(1, 1)\n",
    "    z_real = z.real\n",
    "    z_imaginary = z.imaginary\n",
    "    print(two_complex_variable_product(z_real, z_imaginary, z_real, -1 * z_imaginary))\n",
    "    >>> 2\n",
    "    ```\n",
    "    \n",
    "\n",
    "    ## Notes:\n",
    "    \"\"\"\n",
    "\n",
    "    # (1): Compute the real part of the expression: x1 * x2 + y1 * y2:\n",
    "    real_part = z_1_real_part * z_2_real_part - z_1_imaginary_part * z_2_imaginary_part\n",
    "\n",
    "    # (2): Compute the imaginary part of the expression: x2 * y1 - x1 * y2:\n",
    "    imaginary_part = z_1_imaginary_part * z_2_real_part + z_2_imaginary_part * z_1_real_part\n",
    "\n",
    "    # (3): Cast the real part and the imaginary part to the `complex` datatype:\n",
    "    complex_number = complex(real_part, imaginary_part)\n",
    "\n",
    "    # (4): Return the complex number:\n",
    "    return complex_number"
   ]
  },
  {
   "cell_type": "code",
   "execution_count": 58,
   "metadata": {},
   "outputs": [],
   "source": [
    "lepton_helicity = sp.Symbol('lambda')\n",
    "target_polarization = sp.Symbol('lambda')\n",
    "squared_Q_momentum_transfer = sp.Symbol('Q^2')\n",
    "x_Bjorken = sp.Symbol('x_B')\n",
    "squared_hadronic_momentum_transfer_t = sp.Symbol('t')\n",
    "azimuthal_phi = sp.Symbol('phi')\n",
    "epsilon = sp.Symbol('epsilon')\n",
    "lepton_energy_fraction_y = sp.Symbol('y')\n",
    "shorthand_k = sp.Symbol('K')\n",
    "Dirac_form_factor_F1 = sp.Symbol('F1')\n",
    "Pauli_form_factor_F2 = sp.Symbol('F2') \n",
    "_MASS_OF_PROTON_IN_GEV = sp.Symbol('m_p')\n",
    "compton_form_factor_h_real_part = sp.Symbol('reH')\n",
    "compton_form_factor_h_imaginary_part = sp.Symbol('imH')\n",
    "compton_form_factor_h_tilde_real_part = sp.Symbol('reHt')\n",
    "compton_form_factor_h_tilde_imaginary_part = sp.Symbol('imHt')\n",
    "compton_form_factor_e_real_part = sp.Symbol('reE')\n",
    "compton_form_factor_e_imaginary_part = sp.Symbol('imE')\n",
    "compton_form_factor_e_tilde_real_part = sp.Symbol('reEt')\n",
    "compton_form_factor_e_tilde_imaginary_part = sp.Symbol('imEt')"
   ]
  },
  {
   "cell_type": "markdown",
   "metadata": {},
   "source": [
    "## Coding | $c_{0, \\text{unp}}^{BH}$"
   ]
  },
  {
   "cell_type": "code",
   "execution_count": 41,
   "metadata": {},
   "outputs": [],
   "source": [
    "# (1): Calculate the common appearance of F1 + F2:\n",
    "addition_of_form_factors_squared = (Dirac_form_factor_F1 + Pauli_form_factor_F2)**2\n",
    "\n",
    "# (2): Calculate the common appearance of a weighted sum of F1 and F2:\n",
    "weighted_combination_of_form_factors = Dirac_form_factor_F1**2 - ((squared_hadronic_momentum_transfer_t / (4. * _MASS_OF_PROTON_IN_GEV**2)) * Pauli_form_factor_F2**2)\n",
    "\n",
    "# (3): Calculate the common appearance of delta^{2} / Q^{2} = t / Q^{2}\n",
    "t_over_Q_squared = squared_hadronic_momentum_transfer_t / squared_Q_momentum_transfer\n",
    "\n",
    "# (4):  The first line that contributes to c^{(0)}_{BH}:\n",
    "first_line = 8. * shorthand_k**2 * (((2. + 3. * epsilon**2) * weighted_combination_of_form_factors / t_over_Q_squared) + (2. * x_Bjorken**2 * addition_of_form_factors_squared))\n",
    "\n",
    "# (5): The first part of the second line:\n",
    "second_line_first_part = (2. + epsilon**2) * ((4. * x_Bjorken**2 * _MASS_OF_PROTON_IN_GEV**2 / squared_hadronic_momentum_transfer_t) * (1. + t_over_Q_squared)**2 + 4. * (1 - x_Bjorken) * (1. + (x_Bjorken * t_over_Q_squared) )) * weighted_combination_of_form_factors\n",
    "\n",
    "# (6): The second part of the second line:\n",
    "second_line_second_part = 4. * x_Bjorken**2 * (x_Bjorken + (1. - x_Bjorken + (epsilon**2 / 2.)) * (1 - t_over_Q_squared)**2 - x_Bjorken * (1. - 2. * x_Bjorken) * t_over_Q_squared**2) * addition_of_form_factors_squared\n",
    "\n",
    "# (7): The second line in its entirety, which is just a prefactor times the addition of the two parts calculated earlier:\n",
    "second_line = (2. - lepton_energy_fraction_y)**2 * (second_line_first_part + second_line_second_part)\n",
    "\n",
    "# (8): The third line:\n",
    "third_line = 8. * (1. + epsilon**2) * (1. - lepton_energy_fraction_y - (epsilon**2 * lepton_energy_fraction_y**2 / 4.)) * (2. * epsilon**2 * (1 - (squared_hadronic_momentum_transfer_t / (4. * _MASS_OF_PROTON_IN_GEV**2)) * weighted_combination_of_form_factors) - x_Bjorken**2 * (1 - t_over_Q_squared)**2 * addition_of_form_factors_squared)\n",
    "\n",
    "# (9): Add everything up to obtain the first coefficient:\n",
    "c0_unpolarized_BH = first_line + second_line + third_line"
   ]
  },
  {
   "cell_type": "code",
   "execution_count": 42,
   "metadata": {},
   "outputs": [],
   "source": [
    "c_0_unpolarized_bh_function = sp.lambdify([\n",
    "        squared_Q_momentum_transfer, \n",
    "        x_Bjorken, \n",
    "        squared_hadronic_momentum_transfer_t,\n",
    "        epsilon,\n",
    "        lepton_energy_fraction_y,\n",
    "        shorthand_k,\n",
    "        Dirac_form_factor_F1, \n",
    "        Pauli_form_factor_F2, \n",
    "    ], c0_unpolarized_BH, 'numpy')"
   ]
  },
  {
   "cell_type": "markdown",
   "metadata": {},
   "source": [
    "# Testing | $c_{0, \\text{unp}}^{BH}$"
   ]
  },
  {
   "cell_type": "code",
   "execution_count": 51,
   "metadata": {},
   "outputs": [
    {
     "data": {
      "text/latex": [
       "$\\displaystyle 5.26712827212672$"
      ],
      "text/plain": [
       "5.26712827212672"
      ]
     },
     "execution_count": 51,
     "metadata": {},
     "output_type": "execute_result"
    }
   ],
   "source": [
    "c_0_unpolarized_bh_function(\n",
    "    1.8200000524520874,\n",
    "    0.34299999475479126,\n",
    "    -0.1720000058412552,\n",
    "    0.477109,\n",
    "    0.491757,\n",
    "    0.081441,\n",
    "    0.70236,\n",
    "    1.108069).subs({_MASS_OF_PROTON_IN_GEV: .93827208816})"
   ]
  },
  {
   "cell_type": "markdown",
   "metadata": {},
   "source": [
    "## Coding | $c_{1, \\text{unp}}^{BH}$"
   ]
  },
  {
   "cell_type": "code",
   "execution_count": 49,
   "metadata": {},
   "outputs": [],
   "source": [
    "# (1): Calculate the common appearance of F1 + F2:\n",
    "addition_of_form_factors_squared = (Dirac_form_factor_F1 + Pauli_form_factor_F2)**2\n",
    "\n",
    "# (2): Calculate the common appearance of a weighted sum of F1 and F2:\n",
    "weighted_combination_of_form_factors = Dirac_form_factor_F1**2 - ((squared_hadronic_momentum_transfer_t / (4. * _MASS_OF_PROTON_IN_GEV**2)) * Pauli_form_factor_F2**2)\n",
    "\n",
    "# (3):  The first part of the first line:\n",
    "first_line_first_part = ((4. * x_Bjorken**2 * _MASS_OF_PROTON_IN_GEV**2 / squared_hadronic_momentum_transfer_t) - 2. * x_Bjorken - epsilon**2) * weighted_combination_of_form_factors\n",
    "\n",
    "# (4): The first part of the second line:\n",
    "first_line_second_part = 2. * x_Bjorken**2 * (1. - (1. - 2. * x_Bjorken) * (squared_hadronic_momentum_transfer_t / squared_Q_momentum_transfer)) * addition_of_form_factors_squared\n",
    "\n",
    "# (5): Multiply by the prefactor to obtain c^{(1)}_{BH}\n",
    "c1_unpolarized_BH = 8. * shorthand_k * (2. - lepton_energy_fraction_y) * (first_line_first_part + first_line_second_part)"
   ]
  },
  {
   "cell_type": "code",
   "execution_count": 50,
   "metadata": {},
   "outputs": [],
   "source": [
    "c_1_unpolarized_bh_function = sp.lambdify([\n",
    "        squared_Q_momentum_transfer, \n",
    "        x_Bjorken, \n",
    "        squared_hadronic_momentum_transfer_t,\n",
    "        epsilon,\n",
    "        lepton_energy_fraction_y,\n",
    "        shorthand_k,\n",
    "        Dirac_form_factor_F1, \n",
    "        Pauli_form_factor_F2, \n",
    "    ], c1_unpolarized_BH, 'numpy')"
   ]
  },
  {
   "cell_type": "markdown",
   "metadata": {},
   "source": [
    "# Testing | $c_{1, \\text{unp}}^{BH}$"
   ]
  },
  {
   "cell_type": "code",
   "execution_count": 52,
   "metadata": {},
   "outputs": [
    {
     "data": {
      "text/latex": [
       "$\\displaystyle -1.02595491506419$"
      ],
      "text/plain": [
       "-1.02595491506419"
      ]
     },
     "execution_count": 52,
     "metadata": {},
     "output_type": "execute_result"
    }
   ],
   "source": [
    "c_1_unpolarized_bh_function(\n",
    "    1.8200000524520874,\n",
    "    0.34299999475479126,\n",
    "    -0.1720000058412552,\n",
    "    0.477109,\n",
    "    0.491757,\n",
    "    0.081441,\n",
    "    0.70236,\n",
    "    1.108069).subs({_MASS_OF_PROTON_IN_GEV: .93827208816})"
   ]
  },
  {
   "cell_type": "markdown",
   "metadata": {},
   "source": [
    "# Coding | $\\mathcal{C}_{LP}^{DVCS}$"
   ]
  },
  {
   "cell_type": "code",
   "execution_count": 61,
   "metadata": {},
   "outputs": [
    {
     "ename": "TypeError",
     "evalue": "Cannot convert expression to float",
     "output_type": "error",
     "traceback": [
      "\u001b[1;31m---------------------------------------------------------------------------\u001b[0m",
      "\u001b[1;31mTypeError\u001b[0m                                 Traceback (most recent call last)",
      "Cell \u001b[1;32mIn[61], line 11\u001b[0m\n\u001b[0;32m      8\u001b[0m weighted_sum_Q_squared_xb_t \u001b[38;5;241m=\u001b[39m two_minus_xb \u001b[38;5;241m*\u001b[39m squared_Q_momentum_transfer \u001b[38;5;241m+\u001b[39m x_Bjorken \u001b[38;5;241m*\u001b[39m squared_hadronic_momentum_transfer_t\n\u001b[0;32m     10\u001b[0m \u001b[38;5;66;03m# (4): Calculate the first product of CFFs:\u001b[39;00m\n\u001b[1;32m---> 11\u001b[0m first_term_CFFs \u001b[38;5;241m=\u001b[39m \u001b[43mtwo_complex_variable_product\u001b[49m\u001b[43m(\u001b[49m\n\u001b[0;32m     12\u001b[0m \u001b[43m    \u001b[49m\u001b[43mcompton_form_factor_h_real_part\u001b[49m\u001b[43m,\u001b[49m\u001b[43m \u001b[49m\n\u001b[0;32m     13\u001b[0m \u001b[43m    \u001b[49m\u001b[43mcompton_form_factor_h_imaginary_part\u001b[49m\u001b[43m,\u001b[49m\u001b[43m \u001b[49m\n\u001b[0;32m     14\u001b[0m \u001b[43m    \u001b[49m\u001b[43mcompton_form_factor_h_tilde_real_part\u001b[49m\u001b[43m,\u001b[49m\u001b[43m \u001b[49m\n\u001b[0;32m     15\u001b[0m \u001b[43m    \u001b[49m\u001b[38;5;241;43m-\u001b[39;49m\u001b[38;5;241;43m1.\u001b[39;49m\u001b[43m \u001b[49m\u001b[38;5;241;43m*\u001b[39;49m\u001b[43m \u001b[49m\u001b[43mcompton_form_factor_h_tilde_imaginary_part\u001b[49m\u001b[43m)\u001b[49m\n\u001b[0;32m     16\u001b[0m \u001b[38;5;241m+\u001b[39m two_complex_variable_product(\n\u001b[0;32m     17\u001b[0m     compton_form_factor_h_tilde_real_part, \n\u001b[0;32m     18\u001b[0m     compton_form_factor_h_tilde_imaginary_part, \n\u001b[0;32m     19\u001b[0m     compton_form_factor_h_real_part, \n\u001b[0;32m     20\u001b[0m     \u001b[38;5;241m-\u001b[39m\u001b[38;5;241m1.\u001b[39m \u001b[38;5;241m*\u001b[39m compton_form_factor_h_imaginary_part)\n\u001b[0;32m     22\u001b[0m \u001b[38;5;66;03m# (5): Calculate the second product of CFFs:\u001b[39;00m\n",
      "Cell \u001b[1;32mIn[53], line 41\u001b[0m, in \u001b[0;36mtwo_complex_variable_product\u001b[1;34m(z_1_real_part, z_1_imaginary_part, z_2_real_part, z_2_imaginary_part)\u001b[0m\n\u001b[0;32m     39\u001b[0m real_part \u001b[38;5;241m=\u001b[39m z_1_real_part \u001b[38;5;241m*\u001b[39m z_2_real_part \u001b[38;5;241m-\u001b[39m z_1_imaginary_part \u001b[38;5;241m*\u001b[39m z_2_imaginary_part\n\u001b[0;32m     40\u001b[0m imaginary_part \u001b[38;5;241m=\u001b[39m z_1_imaginary_part \u001b[38;5;241m*\u001b[39m z_2_real_part \u001b[38;5;241m-\u001b[39m z_2_imaginary_part \u001b[38;5;241m*\u001b[39m z_1_real_part\n\u001b[1;32m---> 41\u001b[0m complex_number \u001b[38;5;241m=\u001b[39m \u001b[38;5;28;43mcomplex\u001b[39;49m\u001b[43m(\u001b[49m\u001b[43mreal_part\u001b[49m\u001b[43m,\u001b[49m\u001b[43m \u001b[49m\u001b[43mimaginary_part\u001b[49m\u001b[43m)\u001b[49m\n\u001b[0;32m     42\u001b[0m \u001b[38;5;28;01mreturn\u001b[39;00m complex_number\n",
      "File \u001b[1;32mc:\\Python310\\lib\\site-packages\\sympy\\core\\expr.py:356\u001b[0m, in \u001b[0;36mExpr.__complex__\u001b[1;34m(self)\u001b[0m\n\u001b[0;32m    354\u001b[0m result \u001b[38;5;241m=\u001b[39m \u001b[38;5;28mself\u001b[39m\u001b[38;5;241m.\u001b[39mevalf()\n\u001b[0;32m    355\u001b[0m re, im \u001b[38;5;241m=\u001b[39m result\u001b[38;5;241m.\u001b[39mas_real_imag()\n\u001b[1;32m--> 356\u001b[0m \u001b[38;5;28;01mreturn\u001b[39;00m \u001b[38;5;28mcomplex\u001b[39m(\u001b[38;5;28;43mfloat\u001b[39;49m\u001b[43m(\u001b[49m\u001b[43mre\u001b[49m\u001b[43m)\u001b[49m, \u001b[38;5;28mfloat\u001b[39m(im))\n",
      "File \u001b[1;32mc:\\Python310\\lib\\site-packages\\sympy\\core\\expr.py:351\u001b[0m, in \u001b[0;36mExpr.__float__\u001b[1;34m(self)\u001b[0m\n\u001b[0;32m    349\u001b[0m \u001b[38;5;28;01mif\u001b[39;00m result\u001b[38;5;241m.\u001b[39mis_number \u001b[38;5;129;01mand\u001b[39;00m result\u001b[38;5;241m.\u001b[39mas_real_imag()[\u001b[38;5;241m1\u001b[39m]:\n\u001b[0;32m    350\u001b[0m     \u001b[38;5;28;01mraise\u001b[39;00m \u001b[38;5;167;01mTypeError\u001b[39;00m(\u001b[38;5;124m\"\u001b[39m\u001b[38;5;124mCannot convert complex to float\u001b[39m\u001b[38;5;124m\"\u001b[39m)\n\u001b[1;32m--> 351\u001b[0m \u001b[38;5;28;01mraise\u001b[39;00m \u001b[38;5;167;01mTypeError\u001b[39;00m(\u001b[38;5;124m\"\u001b[39m\u001b[38;5;124mCannot convert expression to float\u001b[39m\u001b[38;5;124m\"\u001b[39m)\n",
      "\u001b[1;31mTypeError\u001b[0m: Cannot convert expression to float"
     ]
    }
   ],
   "source": [
    "# (1): Calculate the appearance of Q^{2} + x_{B} t:\n",
    "sum_Q_squared_xb_t = squared_Q_momentum_transfer + x_Bjorken * squared_hadronic_momentum_transfer_t\n",
    "\n",
    "# (2): Calculate 2 - x_{B}:\n",
    "two_minus_xb = 2. - x_Bjorken\n",
    "\n",
    "# (3) Calculuate (2 - x_{B}) * Q^{2} + x_{B} t:\n",
    "weighted_sum_Q_squared_xb_t = two_minus_xb * squared_Q_momentum_transfer + x_Bjorken * squared_hadronic_momentum_transfer_t\n",
    "\n",
    "# (4): Calculate the first product of CFFs:\n",
    "first_term_CFFs = two_complex_variable_product(\n",
    "    compton_form_factor_h_real_part, \n",
    "    compton_form_factor_h_imaginary_part, \n",
    "    compton_form_factor_h_tilde_real_part, \n",
    "    -1. * compton_form_factor_h_tilde_imaginary_part)\n",
    "+ two_complex_variable_product(\n",
    "    compton_form_factor_h_tilde_real_part, \n",
    "    compton_form_factor_h_tilde_imaginary_part, \n",
    "    compton_form_factor_h_real_part, \n",
    "    -1. * compton_form_factor_h_imaginary_part)\n",
    "\n",
    "# (5): Calculate the second product of CFFs:\n",
    "second_term_CFFs = two_complex_variable_product(\n",
    "    compton_form_factor_h_real_part, \n",
    "    compton_form_factor_h_imaginary_part, \n",
    "    compton_form_factor_e_tilde_real_part, \n",
    "    -1. * compton_form_factor_e_tilde_imaginary_part)\n",
    "+ two_complex_variable_product(\n",
    "    compton_form_factor_e_tilde_real_part, \n",
    "    compton_form_factor_e_tilde_imaginary_part, \n",
    "    compton_form_factor_h_real_part, \n",
    "    -1. * compton_form_factor_h_imaginary_part)\n",
    "+ two_complex_variable_product(\n",
    "    compton_form_factor_h_tilde_real_part, \n",
    "    compton_form_factor_h_tilde_imaginary_part, \n",
    "    compton_form_factor_e_real_part, \n",
    "    -1. * compton_form_factor_e_imaginary_part)\n",
    "+ two_complex_variable_product(\n",
    "    compton_form_factor_e_real_part, \n",
    "    compton_form_factor_e_imaginary_part, \n",
    "    compton_form_factor_h_tilde_real_part, \n",
    "    -1. * compton_form_factor_h_tilde_imaginary_part)\n",
    "\n",
    "# (6): Calculate the third product of CFFs:\n",
    "third_term_CFFs = two_complex_variable_product(\n",
    "    compton_form_factor_h_tilde_real_part, \n",
    "    compton_form_factor_h_tilde_imaginary_part, \n",
    "    compton_form_factor_e_real_part, \n",
    "    -1. * compton_form_factor_e_imaginary_part)\n",
    "+ two_complex_variable_product(\n",
    "    compton_form_factor_e_real_part, \n",
    "    compton_form_factor_e_imaginary_part, \n",
    "    compton_form_factor_h_tilde_real_part, \n",
    "    -1. * compton_form_factor_h_tilde_imaginary_part)\n",
    "\n",
    "# (7): Calculate the fourth product of CFFs:\n",
    "fourth_term_CFFs = two_complex_variable_product(\n",
    "    compton_form_factor_e_real_part, \n",
    "    compton_form_factor_e_imaginary_part, \n",
    "    compton_form_factor_e_tilde_real_part, \n",
    "    -1. * compton_form_factor_e_tilde_imaginary_part)\n",
    "+ two_complex_variable_product(\n",
    "    compton_form_factor_e_tilde_real_part, \n",
    "    compton_form_factor_e_tilde_imaginary_part, \n",
    "    compton_form_factor_e_real_part, \n",
    "    -1. * compton_form_factor_e_imaginary_part)\n",
    "\n",
    "# (8): Calculate the first term's prefactor:\n",
    "first_term_prefactor = 4. * (1. - x_Bjorken + (epsilon**2 * ((3.  - 2. * x_Bjorken) * squared_Q_momentum_transfer + squared_hadronic_momentum_transfer_t)) / (4. * sum_Q_squared_xb_t))\n",
    "\n",
    "# (9): Calculate the second term's prefactor:\n",
    "second_term_prefactor = x_Bjorken**2 * (squared_Q_momentum_transfer - (x_Bjorken * squared_hadronic_momentum_transfer_t * (1. - 2. * x_Bjorken))) / sum_Q_squared_xb_t\n",
    "\n",
    "# (10): Calculate the third term's prefactor:\n",
    "third_term_prefactor = x_Bjorken * ((4. * (1. - x_Bjorken) * sum_Q_squared_xb_t * squared_hadronic_momentum_transfer_t) + (epsilon**2 * (squared_Q_momentum_transfer + squared_hadronic_momentum_transfer_t)**2)) / (2. * squared_Q_momentum_transfer * sum_Q_squared_xb_t)\n",
    "\n",
    "# (11): Calculate the first part of the fourth term's perfactor:\n",
    "fourth_term_prefactor_first_part = weighted_sum_Q_squared_xb_t / sum_Q_squared_xb_t\n",
    "\n",
    "# (12): Calculate the second part of the fourth term's perfactor:\n",
    "fourth_term_prefactor_second_part = (x_Bjorken**2 * (squared_Q_momentum_transfer + squared_hadronic_momentum_transfer_t)**2 / (2. * squared_Q_momentum_transfer * weighted_sum_Q_squared_xb_t)) + (squared_hadronic_momentum_transfer_t / (4. * _MASS_OF_PROTON_IN_GEV**2))\n",
    "\n",
    "# (13): Finish the fourth-term prefactor\n",
    "fourth_term_prefactor = x_Bjorken * fourth_term_prefactor_first_part * fourth_term_prefactor_second_part\n",
    "\n",
    "# (14): Calculate the curly-bracket term:\n",
    "curly_bracket_term = first_term_CFFs * first_term_prefactor - second_term_CFFs * second_term_prefactor - third_term_CFFs * third_term_prefactor - fourth_term_CFFs * fourth_term_prefactor\n",
    "\n",
    "# (15): Calculate the prefactor:\n",
    "prefactor = squared_Q_momentum_transfer * sum_Q_squared_xb_t / (sqrt(1. + epsilon**2) * weighted_sum_Q_squared_xb_t**2)\n",
    "\n",
    "# (16): Return the entire thing:\n",
    "curlyCDVCS = prefactor * curly_bracket_term"
   ]
  },
  {
   "cell_type": "code",
   "execution_count": null,
   "metadata": {},
   "outputs": [
    {
     "ename": "NameError",
     "evalue": "name 'curlyCDVCS' is not defined",
     "output_type": "error",
     "traceback": [
      "\u001b[1;31m---------------------------------------------------------------------------\u001b[0m",
      "\u001b[1;31mNameError\u001b[0m                                 Traceback (most recent call last)",
      "Cell \u001b[1;32mIn[60], line 14\u001b[0m\n\u001b[0;32m      1\u001b[0m curlyCDVCS_function \u001b[38;5;241m=\u001b[39m sp\u001b[38;5;241m.\u001b[39mlambdify([\n\u001b[0;32m      2\u001b[0m         squared_Q_momentum_transfer, \n\u001b[0;32m      3\u001b[0m         x_Bjorken, \n\u001b[0;32m      4\u001b[0m         squared_hadronic_momentum_transfer_t,\n\u001b[0;32m      5\u001b[0m         epsilon,\n\u001b[0;32m      6\u001b[0m         compton_form_factor_h_real_part,\n\u001b[0;32m      7\u001b[0m         compton_form_factor_h_tilde_real_part,\n\u001b[0;32m      8\u001b[0m         compton_form_factor_e_real_part,\n\u001b[0;32m      9\u001b[0m         compton_form_factor_e_tilde_real_part,\n\u001b[0;32m     10\u001b[0m         compton_form_factor_h_imaginary_part,\n\u001b[0;32m     11\u001b[0m         compton_form_factor_h_tilde_imaginary_part,\n\u001b[0;32m     12\u001b[0m         compton_form_factor_e_imaginary_part,\n\u001b[0;32m     13\u001b[0m         compton_form_factor_e_tilde_imaginary_part, \n\u001b[1;32m---> 14\u001b[0m     ], \u001b[43mcurlyCDVCS\u001b[49m, \u001b[38;5;124m'\u001b[39m\u001b[38;5;124mnumpy\u001b[39m\u001b[38;5;124m'\u001b[39m)\n",
      "\u001b[1;31mNameError\u001b[0m: name 'curlyCDVCS' is not defined"
     ]
    }
   ],
   "source": [
    "curlyCDVCS_function = sp.lambdify([\n",
    "        squared_Q_momentum_transfer, \n",
    "        x_Bjorken, \n",
    "        squared_hadronic_momentum_transfer_t,\n",
    "        epsilon,\n",
    "        compton_form_factor_h_real_part,\n",
    "        compton_form_factor_h_tilde_real_part,\n",
    "        compton_form_factor_e_real_part,\n",
    "        compton_form_factor_e_tilde_real_part,\n",
    "        compton_form_factor_h_imaginary_part,\n",
    "        compton_form_factor_h_tilde_imaginary_part,\n",
    "        compton_form_factor_e_imaginary_part,\n",
    "        compton_form_factor_e_tilde_imaginary_part, \n",
    "    ], curlyCDVCS, 'numpy')"
   ]
  },
  {
   "cell_type": "markdown",
   "metadata": {},
   "source": [
    "two_complex_variable_product"
   ]
  },
  {
   "cell_type": "code",
   "execution_count": null,
   "metadata": {},
   "outputs": [],
   "source": [
    "curlyCDVCS_function(\n",
    "    1.8200000524520874,\n",
    "    0.34299999475479126,\n",
    "    -0.1720000058412552,\n",
    "    0.477109,\n",
    "    0.491757,\n",
    "    0.081441,\n",
    "    0.70236,\n",
    "    1.108069).subs({\n",
    "        _MASS_OF_PROTON_IN_GEV: .93827208816,\n",
    "        compton_form_factor_h_real_part: -0.897,\n",
    "        compton_form_factor_h_imaginary_part:  2.421,\n",
    "\n",
    "        compton_form_factor_h_tilde_real_part: 2.444,\n",
    "        compton_form_factor_h_tilde_imaginary_part: 1.131,\n",
    "\n",
    "        compton_form_factor_e_real_part: -0.541,\n",
    "        compton_form_factor_e_imaginary_part: 2.207,\n",
    "\n",
    "        compton_form_factor_e_imaginary_part: 0.903,\n",
    "        compton_form_factor_e_tilde_imaginary_part: 5.383\n",
    "        })"
   ]
  },
  {
   "cell_type": "code",
   "execution_count": 35,
   "metadata": {},
   "outputs": [],
   "source": [
    "z1 = complex(1, 1)\n",
    "z1_conjugate = z1.conjugate()"
   ]
  },
  {
   "cell_type": "code",
   "execution_count": 36,
   "metadata": {},
   "outputs": [
    {
     "data": {
      "text/plain": [
       "(1-1j)"
      ]
     },
     "execution_count": 36,
     "metadata": {},
     "output_type": "execute_result"
    }
   ],
   "source": [
    "z1_conjugate"
   ]
  },
  {
   "cell_type": "code",
   "execution_count": 37,
   "metadata": {},
   "outputs": [
    {
     "data": {
      "text/plain": [
       "(2+0j)"
      ]
     },
     "execution_count": 37,
     "metadata": {},
     "output_type": "execute_result"
    }
   ],
   "source": [
    "two_complex_variable_product(z1.real, z1.imag, z1.real, -1 * z1.imag)"
   ]
  },
  {
   "cell_type": "code",
   "execution_count": 41,
   "metadata": {},
   "outputs": [
    {
     "data": {
      "text/plain": [
       "(6.665849999999999+0j)"
      ]
     },
     "execution_count": 41,
     "metadata": {},
     "output_type": "execute_result"
    }
   ],
   "source": [
    "two_complex_variable_product(\n",
    "    compton_form_factor_h_real_part,\n",
    "    compton_form_factor_h_imaginary_part,\n",
    "    compton_form_factor_h_real_part,\n",
    "    -1. * compton_form_factor_h_imaginary_part)"
   ]
  },
  {
   "cell_type": "code",
   "execution_count": 42,
   "metadata": {},
   "outputs": [
    {
     "data": {
      "text/plain": [
       "(0.5458829999999999+6.931431j)"
      ]
     },
     "execution_count": 42,
     "metadata": {},
     "output_type": "execute_result"
    }
   ],
   "source": [
    "two_complex_variable_product(\n",
    "    compton_form_factor_h_real_part,\n",
    "    compton_form_factor_h_imaginary_part,\n",
    "    compton_form_factor_h_tilde_real_part,\n",
    "    -1. * compton_form_factor_h_tilde_imaginary_part)"
   ]
  },
  {
   "cell_type": "code",
   "execution_count": 39,
   "metadata": {},
   "outputs": [
    {
     "data": {
      "text/plain": [
       "(0.5458829999999999-6.931431j)"
      ]
     },
     "execution_count": 39,
     "metadata": {},
     "output_type": "execute_result"
    }
   ],
   "source": [
    "two_complex_variable_product(\n",
    "    compton_form_factor_h_tilde_real_part,\n",
    "    compton_form_factor_h_tilde_imaginary_part,\n",
    "    compton_form_factor_h_real_part,\n",
    "    -1. * compton_form_factor_h_imaginary_part)"
   ]
  },
  {
   "cell_type": "code",
   "execution_count": 49,
   "metadata": {},
   "outputs": [],
   "source": [
    "a = two_complex_variable_product(\n",
    "    compton_form_factor_h_real_part,\n",
    "    compton_form_factor_h_imaginary_part,\n",
    "    compton_form_factor_h_tilde_real_part,\n",
    "    -1. * compton_form_factor_h_tilde_imaginary_part)"
   ]
  },
  {
   "cell_type": "code",
   "execution_count": 48,
   "metadata": {},
   "outputs": [],
   "source": [
    "b = two_complex_variable_product(\n",
    "    compton_form_factor_h_tilde_real_part,\n",
    "    compton_form_factor_h_tilde_imaginary_part,\n",
    "    compton_form_factor_h_real_part,\n",
    "    -1. * compton_form_factor_h_imaginary_part)"
   ]
  },
  {
   "cell_type": "code",
   "execution_count": 50,
   "metadata": {},
   "outputs": [
    {
     "data": {
      "text/plain": [
       "(1.0917659999999998+0j)"
      ]
     },
     "execution_count": 50,
     "metadata": {},
     "output_type": "execute_result"
    }
   ],
   "source": [
    "a + b"
   ]
  },
  {
   "cell_type": "code",
   "execution_count": 56,
   "metadata": {},
   "outputs": [
    {
     "data": {
      "text/plain": [
       "(1.0917659999999998+0j)"
      ]
     },
     "execution_count": 56,
     "metadata": {},
     "output_type": "execute_result"
    }
   ],
   "source": [
    "two_complex_variable_product(\n",
    "    compton_form_factor_h_real_part,\n",
    "    compton_form_factor_h_imaginary_part,\n",
    "    compton_form_factor_h_tilde_real_part,\n",
    "    -1. * compton_form_factor_h_tilde_imaginary_part) + two_complex_variable_product(\n",
    "    compton_form_factor_h_tilde_real_part,\n",
    "    compton_form_factor_h_tilde_imaginary_part,\n",
    "    compton_form_factor_h_real_part,\n",
    "    -1. * compton_form_factor_h_imaginary_part)"
   ]
  },
  {
   "cell_type": "code",
   "execution_count": 57,
   "metadata": {},
   "outputs": [
    {
     "data": {
      "text/plain": [
       "(0.5458829999999999-6.931431j)"
      ]
     },
     "execution_count": 57,
     "metadata": {},
     "output_type": "execute_result"
    }
   ],
   "source": [
    "two_complex_variable_product(\n",
    "    compton_form_factor_h_real_part, \n",
    "    compton_form_factor_h_imaginary_part, \n",
    "    compton_form_factor_h_tilde_real_part, \n",
    "    -1. * compton_form_factor_h_tilde_imaginary_part)\n",
    "+ two_complex_variable_product(\n",
    "    compton_form_factor_h_tilde_real_part, \n",
    "    compton_form_factor_h_tilde_imaginary_part, \n",
    "    compton_form_factor_h_real_part, \n",
    "    -1. * compton_form_factor_h_imaginary_part)"
   ]
  },
  {
   "cell_type": "code",
   "execution_count": 58,
   "metadata": {},
   "outputs": [
    {
     "data": {
      "text/plain": [
       "(1.0917659999999998+0j)"
      ]
     },
     "execution_count": 58,
     "metadata": {},
     "output_type": "execute_result"
    }
   ],
   "source": [
    "two_complex_variable_product(\n",
    "    compton_form_factor_h_real_part, \n",
    "    compton_form_factor_h_imaginary_part, \n",
    "    compton_form_factor_h_tilde_real_part, \n",
    "    -1. * compton_form_factor_h_tilde_imaginary_part) + two_complex_variable_product(\n",
    "    compton_form_factor_h_tilde_real_part, \n",
    "    compton_form_factor_h_tilde_imaginary_part, \n",
    "    compton_form_factor_h_real_part, \n",
    "    -1. * compton_form_factor_h_imaginary_part)"
   ]
  },
  {
   "cell_type": "code",
   "execution_count": null,
   "metadata": {},
   "outputs": [],
   "source": []
  }
 ],
 "metadata": {
  "kernelspec": {
   "display_name": "Python 3",
   "language": "python",
   "name": "python3"
  },
  "language_info": {
   "codemirror_mode": {
    "name": "ipython",
    "version": 3
   },
   "file_extension": ".py",
   "mimetype": "text/x-python",
   "name": "python",
   "nbconvert_exporter": "python",
   "pygments_lexer": "ipython3",
   "version": "3.10.5"
  }
 },
 "nbformat": 4,
 "nbformat_minor": 2
}
